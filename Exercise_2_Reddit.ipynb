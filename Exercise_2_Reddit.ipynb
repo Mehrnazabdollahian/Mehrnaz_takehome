{
 "cells": [
  {
   "cell_type": "markdown",
   "id": "ea3fda0a",
   "metadata": {},
   "source": [
    "## Exercise 2: Reddit Data\n",
    "\n",
    "The file askscience_data.csv is a collection of posts from the subreddit r/askscience. The task comes with two parts:\n",
    "\n",
    "- Determine the attributes of a successful post on r/askscience\n",
    "- Build a model that can predict the score of a post on r/askscience given at least the title and body of the post (There is no need to limit it to just the title and body, but you must explain why you chose the features you did)."
   ]
  },
  {
   "cell_type": "code",
   "execution_count": 139,
   "id": "74da439c",
   "metadata": {},
   "outputs": [],
   "source": [
    "import pandas as pd\n",
    "import matplotlib.pyplot as plt\n",
    "import matplotlib.dates as mdates\n",
    "import numpy as np\n",
    "pd.set_option('display.max_colwidth', None)  # or use a large number instead of None for a specific width\n"
   ]
  },
  {
   "cell_type": "code",
   "execution_count": 2,
   "id": "546ce258",
   "metadata": {},
   "outputs": [],
   "source": [
    "data = pd.read_csv('askscience_data.csv')"
   ]
  },
  {
   "cell_type": "code",
   "execution_count": 3,
   "id": "2e1b885d",
   "metadata": {},
   "outputs": [
    {
     "data": {
      "text/plain": [
       "(4205, 9)"
      ]
     },
     "execution_count": 3,
     "metadata": {},
     "output_type": "execute_result"
    }
   ],
   "source": [
    "data.shape"
   ]
  },
  {
   "cell_type": "code",
   "execution_count": 4,
   "id": "5622d4ae",
   "metadata": {},
   "outputs": [
    {
     "data": {
      "text/html": [
       "<div>\n",
       "<style scoped>\n",
       "    .dataframe tbody tr th:only-of-type {\n",
       "        vertical-align: middle;\n",
       "    }\n",
       "\n",
       "    .dataframe tbody tr th {\n",
       "        vertical-align: top;\n",
       "    }\n",
       "\n",
       "    .dataframe thead th {\n",
       "        text-align: right;\n",
       "    }\n",
       "</style>\n",
       "<table border=\"1\" class=\"dataframe\">\n",
       "  <thead>\n",
       "    <tr style=\"text-align: right;\">\n",
       "      <th></th>\n",
       "      <th>Unnamed: 0</th>\n",
       "      <th>title</th>\n",
       "      <th>body</th>\n",
       "      <th>tag</th>\n",
       "      <th>datetime</th>\n",
       "      <th>author</th>\n",
       "      <th>score</th>\n",
       "      <th>upvote_ratio</th>\n",
       "      <th>url</th>\n",
       "    </tr>\n",
       "  </thead>\n",
       "  <tbody>\n",
       "    <tr>\n",
       "      <th>0</th>\n",
       "      <td>0</td>\n",
       "      <td>Post viral cough: why does it get worse after you get better?</td>\n",
       "      <td>Tl;dr: why is your cough during an upper respiratory infection not as bad as your post viral cough? (In the absence of asthma or secondary infection)\\n\\nHey folks! This question is perplexing me and I can’t seem to find a specific answer via google.\\n\\nI think I understand why post viral cough happens in the first place: Your mucosa are already inflamed from the infection and immune response. Your cough reflex is hypersensitive because it kicked into gear to fight the virus. As such, the smallest irritations (such as post nasal drip or cold air) are far more likely to trigger a cough. This takes a while to calm down. \\n\\nWhat I don’t understand is the severity and duration. Post viral coughs can take way longer to clear than the virus or any other symptoms. And people often complain of their post viral cough being more frequent, dry, painful and disruptive than when they were sick.\\n\\nThis has been my experience at least. Sometimes I have a cold and barely cough at all. Then as soon as my nose clears up, coughing fits keep me awake at night for 2 weeks. (And I have no comorbidities or secondary infections.) \\n\\nSo what’s going on there? Is there like an inflammation cycle? Are my observations totally off?\\n\\n— \\nEDIT: Thanks so much for these responses! I want to clarify for people requesting/dispensing medical advice: please don’t! It’s against the rules of the sub. My question is *only* about the irritating unpleasant cough that 1) happens after mild illness 2) your doctor tells you not to worry about and 3) goes away on its own.</td>\n",
       "      <td>Human Body</td>\n",
       "      <td>2022-12-09 02:52:07</td>\n",
       "      <td>CarboniferousCreek</td>\n",
       "      <td>1343.0</td>\n",
       "      <td>0.93</td>\n",
       "      <td>https://www.reddit.com/r/askscience/comments/zgu1hn/post_viral_cough_why_does_it_get_worse_after_you/</td>\n",
       "    </tr>\n",
       "    <tr>\n",
       "      <th>1</th>\n",
       "      <td>1</td>\n",
       "      <td>Can an x-ray of an adult show chronic malnourishment in childhood?</td>\n",
       "      <td>If a person was chronically undernourished throughout childhood, but became food secure at age 18, are there markers in their bones that would show up on x-ray that shows the history of malnourishment?  How long would the markers be visible?</td>\n",
       "      <td>Human Body</td>\n",
       "      <td>2022-12-08 18:28:51</td>\n",
       "      <td>Foxs-In-A-Trenchcoat</td>\n",
       "      <td>426.0</td>\n",
       "      <td>0.91</td>\n",
       "      <td>https://www.reddit.com/r/askscience/comments/zgk9bh/can_an_xray_of_an_adult_show_chronic/</td>\n",
       "    </tr>\n",
       "  </tbody>\n",
       "</table>\n",
       "</div>"
      ],
      "text/plain": [
       "   Unnamed: 0  \\\n",
       "0           0   \n",
       "1           1   \n",
       "\n",
       "                                                                title  \\\n",
       "0       Post viral cough: why does it get worse after you get better?   \n",
       "1  Can an x-ray of an adult show chronic malnourishment in childhood?   \n",
       "\n",
       "                                                                                                                                                                                                                                                                                                                                                                                                                                                                                                                                                                                                                                                                                                                                                                                                                                                                                                                                                                                                                                                                                                                                                                                                                                                                                                                                                                                                                                                                                                                                                                                                                    body  \\\n",
       "0  Tl;dr: why is your cough during an upper respiratory infection not as bad as your post viral cough? (In the absence of asthma or secondary infection)\\n\\nHey folks! This question is perplexing me and I can’t seem to find a specific answer via google.\\n\\nI think I understand why post viral cough happens in the first place: Your mucosa are already inflamed from the infection and immune response. Your cough reflex is hypersensitive because it kicked into gear to fight the virus. As such, the smallest irritations (such as post nasal drip or cold air) are far more likely to trigger a cough. This takes a while to calm down. \\n\\nWhat I don’t understand is the severity and duration. Post viral coughs can take way longer to clear than the virus or any other symptoms. And people often complain of their post viral cough being more frequent, dry, painful and disruptive than when they were sick.\\n\\nThis has been my experience at least. Sometimes I have a cold and barely cough at all. Then as soon as my nose clears up, coughing fits keep me awake at night for 2 weeks. (And I have no comorbidities or secondary infections.) \\n\\nSo what’s going on there? Is there like an inflammation cycle? Are my observations totally off?\\n\\n— \\nEDIT: Thanks so much for these responses! I want to clarify for people requesting/dispensing medical advice: please don’t! It’s against the rules of the sub. My question is *only* about the irritating unpleasant cough that 1) happens after mild illness 2) your doctor tells you not to worry about and 3) goes away on its own.   \n",
       "1                                                                                                                                                                                                                                                                                                                                                                                                                                                                                                                                                                                                                                                                                                                                                                                                                                                                                                                                                                                                                                                                                                                                                                                                                                                                                                                                                                      If a person was chronically undernourished throughout childhood, but became food secure at age 18, are there markers in their bones that would show up on x-ray that shows the history of malnourishment?  How long would the markers be visible?   \n",
       "\n",
       "          tag             datetime                author   score  \\\n",
       "0  Human Body  2022-12-09 02:52:07    CarboniferousCreek  1343.0   \n",
       "1  Human Body  2022-12-08 18:28:51  Foxs-In-A-Trenchcoat   426.0   \n",
       "\n",
       "   upvote_ratio  \\\n",
       "0          0.93   \n",
       "1          0.91   \n",
       "\n",
       "                                                                                                     url  \n",
       "0  https://www.reddit.com/r/askscience/comments/zgu1hn/post_viral_cough_why_does_it_get_worse_after_you/  \n",
       "1              https://www.reddit.com/r/askscience/comments/zgk9bh/can_an_xray_of_an_adult_show_chronic/  "
      ]
     },
     "execution_count": 4,
     "metadata": {},
     "output_type": "execute_result"
    }
   ],
   "source": [
    "data.head(2)"
   ]
  },
  {
   "cell_type": "markdown",
   "id": "e68c3aea",
   "metadata": {},
   "source": [
    "### limit to r/askscience"
   ]
  },
  {
   "cell_type": "code",
   "execution_count": 5,
   "id": "c058622b",
   "metadata": {},
   "outputs": [
    {
     "data": {
      "text/plain": [
       "(4204, 9)"
      ]
     },
     "execution_count": 5,
     "metadata": {},
     "output_type": "execute_result"
    }
   ],
   "source": [
    "df_rsc = data[data['url'].str.contains('r/askscience')]\n",
    "df_rsc.shape"
   ]
  },
  {
   "cell_type": "markdown",
   "id": "685e6a3f",
   "metadata": {},
   "source": [
    "### check na"
   ]
  },
  {
   "cell_type": "code",
   "execution_count": 6,
   "id": "4af537ec",
   "metadata": {},
   "outputs": [
    {
     "data": {
      "text/plain": [
       "Unnamed: 0         0\n",
       "title              0\n",
       "body            1712\n",
       "tag              194\n",
       "datetime           0\n",
       "author             0\n",
       "score              0\n",
       "upvote_ratio       0\n",
       "url                0\n",
       "dtype: int64"
      ]
     },
     "execution_count": 6,
     "metadata": {},
     "output_type": "execute_result"
    }
   ],
   "source": [
    "df_rsc.isna().sum()"
   ]
  },
  {
   "cell_type": "code",
   "execution_count": 7,
   "id": "61b06a3c",
   "metadata": {},
   "outputs": [
    {
     "data": {
      "text/plain": [
       "4    https://www.reddit.com/r/askscience/comments/zgs42j/are_there_cells_in_humans_or_other_mammals_that/\n",
       "Name: url, dtype: object"
      ]
     },
     "execution_count": 7,
     "metadata": {},
     "output_type": "execute_result"
    }
   ],
   "source": [
    "df_rsc[df_rsc['body'].isna()]['url'][:1]"
   ]
  },
  {
   "cell_type": "code",
   "execution_count": 8,
   "id": "87419af4",
   "metadata": {},
   "outputs": [],
   "source": [
    "# df_rsc[df_rsc['tag'].isna()]"
   ]
  },
  {
   "cell_type": "markdown",
   "id": "b6919e49",
   "metadata": {},
   "source": [
    "### look at range of columns"
   ]
  },
  {
   "cell_type": "code",
   "execution_count": 9,
   "id": "452f4792",
   "metadata": {},
   "outputs": [
    {
     "data": {
      "text/html": [
       "<div>\n",
       "<style scoped>\n",
       "    .dataframe tbody tr th:only-of-type {\n",
       "        vertical-align: middle;\n",
       "    }\n",
       "\n",
       "    .dataframe tbody tr th {\n",
       "        vertical-align: top;\n",
       "    }\n",
       "\n",
       "    .dataframe thead th {\n",
       "        text-align: right;\n",
       "    }\n",
       "</style>\n",
       "<table border=\"1\" class=\"dataframe\">\n",
       "  <thead>\n",
       "    <tr style=\"text-align: right;\">\n",
       "      <th></th>\n",
       "      <th>Unnamed: 0</th>\n",
       "      <th>score</th>\n",
       "      <th>upvote_ratio</th>\n",
       "    </tr>\n",
       "  </thead>\n",
       "  <tbody>\n",
       "    <tr>\n",
       "      <th>count</th>\n",
       "      <td>4204.000000</td>\n",
       "      <td>4204.000000</td>\n",
       "      <td>4204.00000</td>\n",
       "    </tr>\n",
       "    <tr>\n",
       "      <th>mean</th>\n",
       "      <td>1404.529971</td>\n",
       "      <td>3728.593007</td>\n",
       "      <td>0.76568</td>\n",
       "    </tr>\n",
       "    <tr>\n",
       "      <th>std</th>\n",
       "      <td>815.416091</td>\n",
       "      <td>5576.940099</td>\n",
       "      <td>0.17754</td>\n",
       "    </tr>\n",
       "    <tr>\n",
       "      <th>min</th>\n",
       "      <td>0.000000</td>\n",
       "      <td>0.000000</td>\n",
       "      <td>0.17000</td>\n",
       "    </tr>\n",
       "    <tr>\n",
       "      <th>25%</th>\n",
       "      <td>676.750000</td>\n",
       "      <td>4.000000</td>\n",
       "      <td>0.59000</td>\n",
       "    </tr>\n",
       "    <tr>\n",
       "      <th>50%</th>\n",
       "      <td>1491.500000</td>\n",
       "      <td>35.000000</td>\n",
       "      <td>0.84000</td>\n",
       "    </tr>\n",
       "    <tr>\n",
       "      <th>75%</th>\n",
       "      <td>2136.000000</td>\n",
       "      <td>7472.000000</td>\n",
       "      <td>0.92000</td>\n",
       "    </tr>\n",
       "    <tr>\n",
       "      <th>max</th>\n",
       "      <td>2735.000000</td>\n",
       "      <td>83382.000000</td>\n",
       "      <td>1.00000</td>\n",
       "    </tr>\n",
       "  </tbody>\n",
       "</table>\n",
       "</div>"
      ],
      "text/plain": [
       "        Unnamed: 0         score  upvote_ratio\n",
       "count  4204.000000   4204.000000    4204.00000\n",
       "mean   1404.529971   3728.593007       0.76568\n",
       "std     815.416091   5576.940099       0.17754\n",
       "min       0.000000      0.000000       0.17000\n",
       "25%     676.750000      4.000000       0.59000\n",
       "50%    1491.500000     35.000000       0.84000\n",
       "75%    2136.000000   7472.000000       0.92000\n",
       "max    2735.000000  83382.000000       1.00000"
      ]
     },
     "execution_count": 9,
     "metadata": {},
     "output_type": "execute_result"
    }
   ],
   "source": [
    "df_rsc.describe()"
   ]
  },
  {
   "cell_type": "code",
   "execution_count": 10,
   "id": "30d8e7ec",
   "metadata": {},
   "outputs": [
    {
     "data": {
      "text/plain": [
       "32"
      ]
     },
     "execution_count": 10,
     "metadata": {},
     "output_type": "execute_result"
    }
   ],
   "source": [
    "df_rsc['tag'].nunique()"
   ]
  },
  {
   "cell_type": "code",
   "execution_count": 11,
   "id": "4cd5a619",
   "metadata": {},
   "outputs": [
    {
     "data": {
      "text/plain": [
       "('2010-10-29 12:18:12', '2022-12-09 13:06:01')"
      ]
     },
     "execution_count": 11,
     "metadata": {},
     "output_type": "execute_result"
    }
   ],
   "source": [
    "df_rsc['datetime'].min(),df_rsc['datetime'].max()"
   ]
  },
  {
   "cell_type": "markdown",
   "id": "edb2064c",
   "metadata": {},
   "source": [
    "### Plot the yearly frequency"
   ]
  },
  {
   "cell_type": "code",
   "execution_count": 85,
   "id": "5bf97b5f",
   "metadata": {},
   "outputs": [
    {
     "name": "stderr",
     "output_type": "stream",
     "text": [
      "/var/folders/qb/z424kqr56fn722trbg0x8czm0000gn/T/ipykernel_6602/954702139.py:1: SettingWithCopyWarning: \n",
      "A value is trying to be set on a copy of a slice from a DataFrame.\n",
      "Try using .loc[row_indexer,col_indexer] = value instead\n",
      "\n",
      "See the caveats in the documentation: https://pandas.pydata.org/pandas-docs/stable/user_guide/indexing.html#returning-a-view-versus-a-copy\n",
      "  df_rsc['datetime'] = pd.to_datetime(df_rsc['datetime'])\n"
     ]
    },
    {
     "data": {
      "image/png": "[encoded data removed]",
      "text/plain": [
       "<Figure size 1000x500 with 1 Axes>"
      ]
     },
     "metadata": {},
     "output_type": "display_data"
    }
   ],
   "source": [
    "df_rsc['datetime'] = pd.to_datetime(df_rsc['datetime'])\n",
    "df_resampled = df_rsc.copy()\n",
    "df_resampled.set_index('datetime', inplace=True)\n",
    "monthly_counts = df_resampled.resample('Y').size()\n",
    "monthly_counts.plot(kind='bar', figsize=(10, 5))\n",
    "plt.xlabel('Month')\n",
    "plt.ylabel('Frequency')\n",
    "plt.title('Frequency of Rows Per Year')\n",
    "plt.gca().set_xticklabels([x.strftime('%Y') for x in monthly_counts.index], rotation=45)\n",
    "plt.tight_layout()\n",
    "plt.show()"
   ]
  },
  {
   "cell_type": "code",
   "execution_count": 13,
   "id": "09d8c954",
   "metadata": {},
   "outputs": [
    {
     "data": {
      "text/plain": [
       "3314"
      ]
     },
     "execution_count": 13,
     "metadata": {},
     "output_type": "execute_result"
    }
   ],
   "source": [
    "df_rsc['author'].nunique()"
   ]
  },
  {
   "cell_type": "code",
   "execution_count": 14,
   "id": "f85bb19c",
   "metadata": {},
   "outputs": [
    {
     "data": {
      "text/html": [
       "<div>\n",
       "<style scoped>\n",
       "    .dataframe tbody tr th:only-of-type {\n",
       "        vertical-align: middle;\n",
       "    }\n",
       "\n",
       "    .dataframe tbody tr th {\n",
       "        vertical-align: top;\n",
       "    }\n",
       "\n",
       "    .dataframe thead th {\n",
       "        text-align: right;\n",
       "    }\n",
       "</style>\n",
       "<table border=\"1\" class=\"dataframe\">\n",
       "  <thead>\n",
       "    <tr style=\"text-align: right;\">\n",
       "      <th></th>\n",
       "      <th>author</th>\n",
       "      <th>Unnamed: 0</th>\n",
       "      <th>title</th>\n",
       "      <th>body</th>\n",
       "      <th>tag</th>\n",
       "      <th>datetime</th>\n",
       "      <th>score</th>\n",
       "      <th>upvote_ratio</th>\n",
       "      <th>url</th>\n",
       "    </tr>\n",
       "  </thead>\n",
       "  <tbody>\n",
       "    <tr>\n",
       "      <th>404</th>\n",
       "      <td>DELETED</td>\n",
       "      <td>246</td>\n",
       "      <td>246</td>\n",
       "      <td>139</td>\n",
       "      <td>208</td>\n",
       "      <td>246</td>\n",
       "      <td>246</td>\n",
       "      <td>246</td>\n",
       "      <td>246</td>\n",
       "    </tr>\n",
       "    <tr>\n",
       "      <th>154</th>\n",
       "      <td>AskScienceModerator</td>\n",
       "      <td>46</td>\n",
       "      <td>46</td>\n",
       "      <td>46</td>\n",
       "      <td>46</td>\n",
       "      <td>46</td>\n",
       "      <td>46</td>\n",
       "      <td>46</td>\n",
       "      <td>46</td>\n",
       "    </tr>\n",
       "    <tr>\n",
       "      <th>2446</th>\n",
       "      <td>inquilinekea</td>\n",
       "      <td>12</td>\n",
       "      <td>12</td>\n",
       "      <td>8</td>\n",
       "      <td>12</td>\n",
       "      <td>12</td>\n",
       "      <td>12</td>\n",
       "      <td>12</td>\n",
       "      <td>12</td>\n",
       "    </tr>\n",
       "    <tr>\n",
       "      <th>1681</th>\n",
       "      <td>Toorelad</td>\n",
       "      <td>6</td>\n",
       "      <td>6</td>\n",
       "      <td>1</td>\n",
       "      <td>6</td>\n",
       "      <td>6</td>\n",
       "      <td>6</td>\n",
       "      <td>6</td>\n",
       "      <td>6</td>\n",
       "    </tr>\n",
       "    <tr>\n",
       "      <th>1206</th>\n",
       "      <td>PHealthy</td>\n",
       "      <td>6</td>\n",
       "      <td>6</td>\n",
       "      <td>0</td>\n",
       "      <td>6</td>\n",
       "      <td>6</td>\n",
       "      <td>6</td>\n",
       "      <td>6</td>\n",
       "      <td>6</td>\n",
       "    </tr>\n",
       "    <tr>\n",
       "      <th>656</th>\n",
       "      <td>Gargatua13013</td>\n",
       "      <td>6</td>\n",
       "      <td>6</td>\n",
       "      <td>4</td>\n",
       "      <td>6</td>\n",
       "      <td>6</td>\n",
       "      <td>6</td>\n",
       "      <td>6</td>\n",
       "      <td>6</td>\n",
       "    </tr>\n",
       "    <tr>\n",
       "      <th>1078</th>\n",
       "      <td>Most-Ant2788</td>\n",
       "      <td>5</td>\n",
       "      <td>5</td>\n",
       "      <td>0</td>\n",
       "      <td>5</td>\n",
       "      <td>5</td>\n",
       "      <td>5</td>\n",
       "      <td>5</td>\n",
       "      <td>5</td>\n",
       "    </tr>\n",
       "    <tr>\n",
       "      <th>1353</th>\n",
       "      <td>RichardsonM24</td>\n",
       "      <td>5</td>\n",
       "      <td>5</td>\n",
       "      <td>3</td>\n",
       "      <td>5</td>\n",
       "      <td>5</td>\n",
       "      <td>5</td>\n",
       "      <td>5</td>\n",
       "      <td>5</td>\n",
       "    </tr>\n",
       "    <tr>\n",
       "      <th>948</th>\n",
       "      <td>Lichewitz</td>\n",
       "      <td>5</td>\n",
       "      <td>5</td>\n",
       "      <td>1</td>\n",
       "      <td>5</td>\n",
       "      <td>5</td>\n",
       "      <td>5</td>\n",
       "      <td>5</td>\n",
       "      <td>5</td>\n",
       "    </tr>\n",
       "    <tr>\n",
       "      <th>153</th>\n",
       "      <td>AsAChemicalEngineer</td>\n",
       "      <td>5</td>\n",
       "      <td>5</td>\n",
       "      <td>4</td>\n",
       "      <td>2</td>\n",
       "      <td>5</td>\n",
       "      <td>5</td>\n",
       "      <td>5</td>\n",
       "      <td>5</td>\n",
       "    </tr>\n",
       "  </tbody>\n",
       "</table>\n",
       "</div>"
      ],
      "text/plain": [
       "                   author  Unnamed: 0  title  body  tag  datetime  score  \\\n",
       "404               DELETED         246    246   139  208       246    246   \n",
       "154   AskScienceModerator          46     46    46   46        46     46   \n",
       "2446         inquilinekea          12     12     8   12        12     12   \n",
       "1681             Toorelad           6      6     1    6         6      6   \n",
       "1206             PHealthy           6      6     0    6         6      6   \n",
       "656         Gargatua13013           6      6     4    6         6      6   \n",
       "1078         Most-Ant2788           5      5     0    5         5      5   \n",
       "1353        RichardsonM24           5      5     3    5         5      5   \n",
       "948             Lichewitz           5      5     1    5         5      5   \n",
       "153   AsAChemicalEngineer           5      5     4    2         5      5   \n",
       "\n",
       "      upvote_ratio  url  \n",
       "404            246  246  \n",
       "154             46   46  \n",
       "2446            12   12  \n",
       "1681             6    6  \n",
       "1206             6    6  \n",
       "656              6    6  \n",
       "1078             5    5  \n",
       "1353             5    5  \n",
       "948              5    5  \n",
       "153              5    5  "
      ]
     },
     "execution_count": 14,
     "metadata": {},
     "output_type": "execute_result"
    }
   ],
   "source": [
    "df_rsc.groupby('author').count().reset_index().sort_values(by='Unnamed: 0', ascending = False).iloc[:10]"
   ]
  },
  {
   "cell_type": "code",
   "execution_count": 15,
   "id": "bc9df29a",
   "metadata": {},
   "outputs": [],
   "source": [
    "# df_rsc[df_rsc['author'] == 'DELETED']"
   ]
  },
  {
   "cell_type": "markdown",
   "id": "bd8c39c0",
   "metadata": {},
   "source": [
    "### duplicates"
   ]
  },
  {
   "cell_type": "code",
   "execution_count": 16,
   "id": "865786a7",
   "metadata": {},
   "outputs": [
    {
     "data": {
      "text/plain": [
       "0"
      ]
     },
     "execution_count": 16,
     "metadata": {},
     "output_type": "execute_result"
    }
   ],
   "source": [
    "df_rsc.duplicated().sum()"
   ]
  },
  {
   "cell_type": "markdown",
   "id": "c3649766",
   "metadata": {},
   "source": [
    "### Look at duplicates by columns: body and title"
   ]
  },
  {
   "cell_type": "code",
   "execution_count": 17,
   "id": "fcda28d0",
   "metadata": {},
   "outputs": [
    {
     "data": {
      "text/html": [
       "<div>\n",
       "<style scoped>\n",
       "    .dataframe tbody tr th:only-of-type {\n",
       "        vertical-align: middle;\n",
       "    }\n",
       "\n",
       "    .dataframe tbody tr th {\n",
       "        vertical-align: top;\n",
       "    }\n",
       "\n",
       "    .dataframe thead th {\n",
       "        text-align: right;\n",
       "    }\n",
       "</style>\n",
       "<table border=\"1\" class=\"dataframe\">\n",
       "  <thead>\n",
       "    <tr style=\"text-align: right;\">\n",
       "      <th></th>\n",
       "      <th>Unnamed: 0</th>\n",
       "      <th>title</th>\n",
       "      <th>body</th>\n",
       "      <th>tag</th>\n",
       "      <th>datetime</th>\n",
       "      <th>author</th>\n",
       "      <th>score</th>\n",
       "      <th>upvote_ratio</th>\n",
       "      <th>url</th>\n",
       "    </tr>\n",
       "  </thead>\n",
       "  <tbody>\n",
       "    <tr>\n",
       "      <th>612</th>\n",
       "      <td>612</td>\n",
       "      <td>A 5 foot section of railroad rail does not seem very flexible but a 200 foot section appears to be as flexible as a noodle with bends under a foot. How does longer length make it more flexible?</td>\n",
       "      <td>NaN</td>\n",
       "      <td>Engineering</td>\n",
       "      <td>2017-12-17 20:49:16</td>\n",
       "      <td>inkseep1</td>\n",
       "      <td>8057.0</td>\n",
       "      <td>0.85</td>\n",
       "      <td>https://www.reddit.com/r/askscience/comments/7kj1br/a_5_foot_section_of_railroad_rail_does_not_seem/</td>\n",
       "    </tr>\n",
       "    <tr>\n",
       "      <th>3038</th>\n",
       "      <td>556</td>\n",
       "      <td>A 5 foot section of railroad rail does not seem very flexible but a 200 foot section appears to be as flexible as a noodle with bends under a foot. How does longer length make it more flexible?</td>\n",
       "      <td>NaN</td>\n",
       "      <td>Engineering</td>\n",
       "      <td>2017-12-17 20:49:16</td>\n",
       "      <td>inkseep1</td>\n",
       "      <td>8055.0</td>\n",
       "      <td>0.85</td>\n",
       "      <td>https://www.reddit.com/r/askscience/comments/7kj1br/a_5_foot_section_of_railroad_rail_does_not_seem/</td>\n",
       "    </tr>\n",
       "    <tr>\n",
       "      <th>424</th>\n",
       "      <td>424</td>\n",
       "      <td>A flu shot is a vaccine, right? But they seem to be far less reliable than other vaccines (I know many people who get flu shots each year then get the flu). What is the reason for this, and are flu shots really that important?</td>\n",
       "      <td>NaN</td>\n",
       "      <td>Medicine</td>\n",
       "      <td>2019-01-14 07:45:11</td>\n",
       "      <td>magicscreenman</td>\n",
       "      <td>9252.0</td>\n",
       "      <td>0.86</td>\n",
       "      <td>https://www.reddit.com/r/askscience/comments/afx0nd/a_flu_shot_is_a_vaccine_right_but_they_seem_to_be/</td>\n",
       "    </tr>\n",
       "    <tr>\n",
       "      <th>2947</th>\n",
       "      <td>378</td>\n",
       "      <td>A flu shot is a vaccine, right? But they seem to be far less reliable than other vaccines (I know many people who get flu shots each year then get the flu). What is the reason for this, and are flu shots really that important?</td>\n",
       "      <td>NaN</td>\n",
       "      <td>Medicine</td>\n",
       "      <td>2019-01-14 07:45:11</td>\n",
       "      <td>magicscreenman</td>\n",
       "      <td>9247.0</td>\n",
       "      <td>0.86</td>\n",
       "      <td>https://www.reddit.com/r/askscience/comments/afx0nd/a_flu_shot_is_a_vaccine_right_but_they_seem_to_be/</td>\n",
       "    </tr>\n",
       "    <tr>\n",
       "      <th>390</th>\n",
       "      <td>390</td>\n",
       "      <td>A tidally locked planet is one that turns to always face its parent star, but what's the term for a planet that doesn't turn at all? (i.e. with a day/night cycle that's equal to exactly one year)</td>\n",
       "      <td>NaN</td>\n",
       "      <td>Astronomy</td>\n",
       "      <td>2018-02-02 12:00:30</td>\n",
       "      <td>ZeroBitsRBX</td>\n",
       "      <td>9626.0</td>\n",
       "      <td>0.91</td>\n",
       "      <td>https://www.reddit.com/r/askscience/comments/7uu1qo/a_tidally_locked_planet_is_one_that_turns_to/</td>\n",
       "    </tr>\n",
       "    <tr>\n",
       "      <th>...</th>\n",
       "      <td>...</td>\n",
       "      <td>...</td>\n",
       "      <td>...</td>\n",
       "      <td>...</td>\n",
       "      <td>...</td>\n",
       "      <td>...</td>\n",
       "      <td>...</td>\n",
       "      <td>...</td>\n",
       "      <td>...</td>\n",
       "    </tr>\n",
       "    <tr>\n",
       "      <th>3102</th>\n",
       "      <td>693</td>\n",
       "      <td>how do we know what the milkyway actually looks like?</td>\n",
       "      <td>NaN</td>\n",
       "      <td>Astronomy</td>\n",
       "      <td>2020-07-19 05:28:34</td>\n",
       "      <td>DELETED</td>\n",
       "      <td>7243.0</td>\n",
       "      <td>0.94</td>\n",
       "      <td>https://www.reddit.com/r/askscience/comments/htzqb9/how_do_we_know_what_the_milkyway_actually_looks/</td>\n",
       "    </tr>\n",
       "    <tr>\n",
       "      <th>800</th>\n",
       "      <td>800</td>\n",
       "      <td>mtDNA is passed down from females to all of their children; shouldn't there be people around who carry denisovan or neanderthal mtDNA because they had a great- great- (etc) grandmother who was denisovan or neanderthal?</td>\n",
       "      <td>NaN</td>\n",
       "      <td>Anthropology</td>\n",
       "      <td>2018-08-23 06:12:41</td>\n",
       "      <td>WhatsAMisanthrope</td>\n",
       "      <td>7002.0</td>\n",
       "      <td>0.93</td>\n",
       "      <td>https://www.reddit.com/r/askscience/comments/99n9gy/mtdna_is_passed_down_from_females_to_all_of_their/</td>\n",
       "    </tr>\n",
       "    <tr>\n",
       "      <th>3122</th>\n",
       "      <td>734</td>\n",
       "      <td>mtDNA is passed down from females to all of their children; shouldn't there be people around who carry denisovan or neanderthal mtDNA because they had a great- great- (etc) grandmother who was denisovan or neanderthal?</td>\n",
       "      <td>NaN</td>\n",
       "      <td>Anthropology</td>\n",
       "      <td>2018-08-23 06:12:41</td>\n",
       "      <td>WhatsAMisanthrope</td>\n",
       "      <td>6996.0</td>\n",
       "      <td>0.93</td>\n",
       "      <td>https://www.reddit.com/r/askscience/comments/99n9gy/mtdna_is_passed_down_from_females_to_all_of_their/</td>\n",
       "    </tr>\n",
       "    <tr>\n",
       "      <th>1012</th>\n",
       "      <td>1012</td>\n",
       "      <td>when I shine a flashlight at Mars, does a small amount of the light actually reach it?</td>\n",
       "      <td>NaN</td>\n",
       "      <td>Physics</td>\n",
       "      <td>2017-03-07 03:20:28</td>\n",
       "      <td>malikpura</td>\n",
       "      <td>6226.0</td>\n",
       "      <td>0.92</td>\n",
       "      <td>https://www.reddit.com/r/askscience/comments/5xzt4s/when_i_shine_a_flashlight_at_mars_does_a_small/</td>\n",
       "    </tr>\n",
       "    <tr>\n",
       "      <th>3216</th>\n",
       "      <td>934</td>\n",
       "      <td>when I shine a flashlight at Mars, does a small amount of the light actually reach it?</td>\n",
       "      <td>NaN</td>\n",
       "      <td>Physics</td>\n",
       "      <td>2017-03-07 03:20:28</td>\n",
       "      <td>malikpura</td>\n",
       "      <td>6229.0</td>\n",
       "      <td>0.92</td>\n",
       "      <td>https://www.reddit.com/r/askscience/comments/5xzt4s/when_i_shine_a_flashlight_at_mars_does_a_small/</td>\n",
       "    </tr>\n",
       "  </tbody>\n",
       "</table>\n",
       "<p>995 rows × 9 columns</p>\n",
       "</div>"
      ],
      "text/plain": [
       "      Unnamed: 0  \\\n",
       "612          612   \n",
       "3038         556   \n",
       "424          424   \n",
       "2947         378   \n",
       "390          390   \n",
       "...          ...   \n",
       "3102         693   \n",
       "800          800   \n",
       "3122         734   \n",
       "1012        1012   \n",
       "3216         934   \n",
       "\n",
       "                                                                                                                                                                                                                                   title  \\\n",
       "612                                    A 5 foot section of railroad rail does not seem very flexible but a 200 foot section appears to be as flexible as a noodle with bends under a foot. How does longer length make it more flexible?   \n",
       "3038                                   A 5 foot section of railroad rail does not seem very flexible but a 200 foot section appears to be as flexible as a noodle with bends under a foot. How does longer length make it more flexible?   \n",
       "424   A flu shot is a vaccine, right? But they seem to be far less reliable than other vaccines (I know many people who get flu shots each year then get the flu). What is the reason for this, and are flu shots really that important?   \n",
       "2947  A flu shot is a vaccine, right? But they seem to be far less reliable than other vaccines (I know many people who get flu shots each year then get the flu). What is the reason for this, and are flu shots really that important?   \n",
       "390                                  A tidally locked planet is one that turns to always face its parent star, but what's the term for a planet that doesn't turn at all? (i.e. with a day/night cycle that's equal to exactly one year)   \n",
       "...                                                                                                                                                                                                                                  ...   \n",
       "3102                                                                                                                                                                               how do we know what the milkyway actually looks like?   \n",
       "800           mtDNA is passed down from females to all of their children; shouldn't there be people around who carry denisovan or neanderthal mtDNA because they had a great- great- (etc) grandmother who was denisovan or neanderthal?   \n",
       "3122          mtDNA is passed down from females to all of their children; shouldn't there be people around who carry denisovan or neanderthal mtDNA because they had a great- great- (etc) grandmother who was denisovan or neanderthal?   \n",
       "1012                                                                                                                                              when I shine a flashlight at Mars, does a small amount of the light actually reach it?   \n",
       "3216                                                                                                                                              when I shine a flashlight at Mars, does a small amount of the light actually reach it?   \n",
       "\n",
       "     body           tag            datetime             author   score  \\\n",
       "612   NaN   Engineering 2017-12-17 20:49:16           inkseep1  8057.0   \n",
       "3038  NaN   Engineering 2017-12-17 20:49:16           inkseep1  8055.0   \n",
       "424   NaN      Medicine 2019-01-14 07:45:11     magicscreenman  9252.0   \n",
       "2947  NaN      Medicine 2019-01-14 07:45:11     magicscreenman  9247.0   \n",
       "390   NaN     Astronomy 2018-02-02 12:00:30        ZeroBitsRBX  9626.0   \n",
       "...   ...           ...                 ...                ...     ...   \n",
       "3102  NaN     Astronomy 2020-07-19 05:28:34            DELETED  7243.0   \n",
       "800   NaN  Anthropology 2018-08-23 06:12:41  WhatsAMisanthrope  7002.0   \n",
       "3122  NaN  Anthropology 2018-08-23 06:12:41  WhatsAMisanthrope  6996.0   \n",
       "1012  NaN       Physics 2017-03-07 03:20:28          malikpura  6226.0   \n",
       "3216  NaN       Physics 2017-03-07 03:20:28          malikpura  6229.0   \n",
       "\n",
       "      upvote_ratio  \\\n",
       "612           0.85   \n",
       "3038          0.85   \n",
       "424           0.86   \n",
       "2947          0.86   \n",
       "390           0.91   \n",
       "...            ...   \n",
       "3102          0.94   \n",
       "800           0.93   \n",
       "3122          0.93   \n",
       "1012          0.92   \n",
       "3216          0.92   \n",
       "\n",
       "                                                                                                         url  \n",
       "612     https://www.reddit.com/r/askscience/comments/7kj1br/a_5_foot_section_of_railroad_rail_does_not_seem/  \n",
       "3038    https://www.reddit.com/r/askscience/comments/7kj1br/a_5_foot_section_of_railroad_rail_does_not_seem/  \n",
       "424   https://www.reddit.com/r/askscience/comments/afx0nd/a_flu_shot_is_a_vaccine_right_but_they_seem_to_be/  \n",
       "2947  https://www.reddit.com/r/askscience/comments/afx0nd/a_flu_shot_is_a_vaccine_right_but_they_seem_to_be/  \n",
       "390        https://www.reddit.com/r/askscience/comments/7uu1qo/a_tidally_locked_planet_is_one_that_turns_to/  \n",
       "...                                                                                                      ...  \n",
       "3102    https://www.reddit.com/r/askscience/comments/htzqb9/how_do_we_know_what_the_milkyway_actually_looks/  \n",
       "800   https://www.reddit.com/r/askscience/comments/99n9gy/mtdna_is_passed_down_from_females_to_all_of_their/  \n",
       "3122  https://www.reddit.com/r/askscience/comments/99n9gy/mtdna_is_passed_down_from_females_to_all_of_their/  \n",
       "1012     https://www.reddit.com/r/askscience/comments/5xzt4s/when_i_shine_a_flashlight_at_mars_does_a_small/  \n",
       "3216     https://www.reddit.com/r/askscience/comments/5xzt4s/when_i_shine_a_flashlight_at_mars_does_a_small/  \n",
       "\n",
       "[995 rows x 9 columns]"
      ]
     },
     "execution_count": 17,
     "metadata": {},
     "output_type": "execute_result"
    }
   ],
   "source": [
    "# Mark all duplicates\n",
    "duplicates = df_rsc[df_rsc.duplicated(subset=['body', 'title'], keep=False)]\n",
    "\n",
    "# Sort the DataFrame based on 'body' and 'title' so duplicates are grouped together\n",
    "duplicates_sorted = duplicates.sort_values(by=['body', 'title'])\n",
    "\n",
    "# Display the sorted duplicates\n",
    "duplicates_sorted\n"
   ]
  },
  {
   "cell_type": "code",
   "execution_count": 34,
   "id": "00354767",
   "metadata": {},
   "outputs": [
    {
     "data": {
      "text/plain": [
       "995"
      ]
     },
     "execution_count": 34,
     "metadata": {},
     "output_type": "execute_result"
    }
   ],
   "source": [
    "duplicates_sorted['body'].isna().sum()"
   ]
  },
  {
   "cell_type": "code",
   "execution_count": 36,
   "id": "7966a6de",
   "metadata": {},
   "outputs": [],
   "source": [
    "# # Check if there are any variations in 'score' within the duplicates\n",
    "# variations = duplicates_sorted.groupby([ 'title'])['score'].nunique() > 1\n",
    "\n",
    "# # Display any groups where there's more than one unique 'score' value\n",
    "# variations[variations].index.tolist()\n"
   ]
  },
  {
   "cell_type": "code",
   "execution_count": 45,
   "id": "f6a505ca",
   "metadata": {},
   "outputs": [
    {
     "data": {
      "text/plain": [
       "(3704, 12)"
      ]
     },
     "execution_count": 45,
     "metadata": {},
     "output_type": "execute_result"
    }
   ],
   "source": [
    "# Group by 'title' and aggregate the 'score' column as well as taking the first occurrence of all other columns\n",
    "aggregated = df_rsc.groupby('title', as_index=False).agg({\n",
    "    'Unnamed: 0': 'first',\n",
    "    'body': 'first',\n",
    "    'tag': 'first',\n",
    "    'datetime': 'first',\n",
    "    'author': 'first',\n",
    "    'score': ['mean', 'min', 'max','std'],\n",
    "    'upvote_ratio': 'first',\n",
    "    'url': 'first'\n",
    "})\n",
    "\n",
    "# Now, because you have multi-level columns due to using different aggregation functions,\n",
    "# you will need to flatten the columns using a list comprehension or another method\n",
    "aggregated.columns = ['_'.join(col).strip() if col[1] else col[0] for col in aggregated.columns.values]\n",
    "\n",
    "# Now you can rename the columns to remove the appended '_first' from the non-aggregated fields if you wish\n",
    "aggregated.rename(columns=lambda x: x.replace('_first', ''), inplace=True)\n",
    "\n",
    "# Display the shape of the aggregated DataFrame\n",
    "aggregated.shape\n"
   ]
  },
  {
   "cell_type": "code",
   "execution_count": 56,
   "id": "1b863abf",
   "metadata": {},
   "outputs": [
    {
     "data": {
      "text/html": [
       "<div>\n",
       "<style scoped>\n",
       "    .dataframe tbody tr th:only-of-type {\n",
       "        vertical-align: middle;\n",
       "    }\n",
       "\n",
       "    .dataframe tbody tr th {\n",
       "        vertical-align: top;\n",
       "    }\n",
       "\n",
       "    .dataframe thead th {\n",
       "        text-align: right;\n",
       "    }\n",
       "</style>\n",
       "<table border=\"1\" class=\"dataframe\">\n",
       "  <thead>\n",
       "    <tr style=\"text-align: right;\">\n",
       "      <th></th>\n",
       "      <th>Unnamed: 0</th>\n",
       "      <th>datetime</th>\n",
       "      <th>score_mean</th>\n",
       "      <th>score_min</th>\n",
       "      <th>score_max</th>\n",
       "      <th>score_std</th>\n",
       "      <th>upvote_ratio</th>\n",
       "    </tr>\n",
       "  </thead>\n",
       "  <tbody>\n",
       "    <tr>\n",
       "      <th>count</th>\n",
       "      <td>3704.000000</td>\n",
       "      <td>3704</td>\n",
       "      <td>3704.000000</td>\n",
       "      <td>3704.000000</td>\n",
       "      <td>3704.000000</td>\n",
       "      <td>499.000000</td>\n",
       "      <td>3704.000000</td>\n",
       "    </tr>\n",
       "    <tr>\n",
       "      <th>mean</th>\n",
       "      <td>1530.675216</td>\n",
       "      <td>2019-12-25 18:07:59.369600512</td>\n",
       "      <td>2883.484971</td>\n",
       "      <td>2881.360151</td>\n",
       "      <td>2887.440605</td>\n",
       "      <td>26.622437</td>\n",
       "      <td>0.745597</td>\n",
       "    </tr>\n",
       "    <tr>\n",
       "      <th>min</th>\n",
       "      <td>0.000000</td>\n",
       "      <td>2010-10-29 12:18:12</td>\n",
       "      <td>0.000000</td>\n",
       "      <td>0.000000</td>\n",
       "      <td>0.000000</td>\n",
       "      <td>0.000000</td>\n",
       "      <td>0.170000</td>\n",
       "    </tr>\n",
       "    <tr>\n",
       "      <th>25%</th>\n",
       "      <td>826.750000</td>\n",
       "      <td>2018-01-17 13:11:47.750000128</td>\n",
       "      <td>3.000000</td>\n",
       "      <td>3.000000</td>\n",
       "      <td>3.000000</td>\n",
       "      <td>1.414214</td>\n",
       "      <td>0.560000</td>\n",
       "    </tr>\n",
       "    <tr>\n",
       "      <th>50%</th>\n",
       "      <td>1730.000000</td>\n",
       "      <td>2021-12-10 05:14:50</td>\n",
       "      <td>17.500000</td>\n",
       "      <td>17.500000</td>\n",
       "      <td>17.500000</td>\n",
       "      <td>2.828427</td>\n",
       "      <td>0.800000</td>\n",
       "    </tr>\n",
       "    <tr>\n",
       "      <th>75%</th>\n",
       "      <td>2199.250000</td>\n",
       "      <td>2022-03-09 06:46:30.249999872</td>\n",
       "      <td>6433.000000</td>\n",
       "      <td>6433.000000</td>\n",
       "      <td>6434.500000</td>\n",
       "      <td>4.242641</td>\n",
       "      <td>0.910000</td>\n",
       "    </tr>\n",
       "    <tr>\n",
       "      <th>90%</th>\n",
       "      <td>2480.000000</td>\n",
       "      <td>2022-11-10 19:42:08.100000</td>\n",
       "      <td>9570.750000</td>\n",
       "      <td>9567.400000</td>\n",
       "      <td>9571.400000</td>\n",
       "      <td>5.656854</td>\n",
       "      <td>0.940000</td>\n",
       "    </tr>\n",
       "    <tr>\n",
       "      <th>95%</th>\n",
       "      <td>2574.850000</td>\n",
       "      <td>2022-11-23 23:26:57</td>\n",
       "      <td>12037.225000</td>\n",
       "      <td>12026.850000</td>\n",
       "      <td>12038.250000</td>\n",
       "      <td>7.071068</td>\n",
       "      <td>0.950000</td>\n",
       "    </tr>\n",
       "    <tr>\n",
       "      <th>max</th>\n",
       "      <td>2735.000000</td>\n",
       "      <td>2022-12-09 13:06:01</td>\n",
       "      <td>83382.000000</td>\n",
       "      <td>83382.000000</td>\n",
       "      <td>83382.000000</td>\n",
       "      <td>11747.345970</td>\n",
       "      <td>1.000000</td>\n",
       "    </tr>\n",
       "    <tr>\n",
       "      <th>std</th>\n",
       "      <td>779.592310</td>\n",
       "      <td>NaN</td>\n",
       "      <td>5161.086528</td>\n",
       "      <td>5157.465253</td>\n",
       "      <td>5175.117265</td>\n",
       "      <td>525.765539</td>\n",
       "      <td>0.179029</td>\n",
       "    </tr>\n",
       "  </tbody>\n",
       "</table>\n",
       "</div>"
      ],
      "text/plain": [
       "        Unnamed: 0                       datetime    score_mean     score_min  \\\n",
       "count  3704.000000                           3704   3704.000000   3704.000000   \n",
       "mean   1530.675216  2019-12-25 18:07:59.369600512   2883.484971   2881.360151   \n",
       "min       0.000000            2010-10-29 12:18:12      0.000000      0.000000   \n",
       "25%     826.750000  2018-01-17 13:11:47.750000128      3.000000      3.000000   \n",
       "50%    1730.000000            2021-12-10 05:14:50     17.500000     17.500000   \n",
       "75%    2199.250000  2022-03-09 06:46:30.249999872   6433.000000   6433.000000   \n",
       "90%    2480.000000     2022-11-10 19:42:08.100000   9570.750000   9567.400000   \n",
       "95%    2574.850000            2022-11-23 23:26:57  12037.225000  12026.850000   \n",
       "max    2735.000000            2022-12-09 13:06:01  83382.000000  83382.000000   \n",
       "std     779.592310                            NaN   5161.086528   5157.465253   \n",
       "\n",
       "          score_max     score_std  upvote_ratio  \n",
       "count   3704.000000    499.000000   3704.000000  \n",
       "mean    2887.440605     26.622437      0.745597  \n",
       "min        0.000000      0.000000      0.170000  \n",
       "25%        3.000000      1.414214      0.560000  \n",
       "50%       17.500000      2.828427      0.800000  \n",
       "75%     6434.500000      4.242641      0.910000  \n",
       "90%     9571.400000      5.656854      0.940000  \n",
       "95%    12038.250000      7.071068      0.950000  \n",
       "max    83382.000000  11747.345970      1.000000  \n",
       "std     5175.117265    525.765539      0.179029  "
      ]
     },
     "execution_count": 56,
     "metadata": {},
     "output_type": "execute_result"
    }
   ],
   "source": [
    "aggregated.describe(percentiles=[.25, .5, .75, .90, .95])"
   ]
  },
  {
   "cell_type": "markdown",
   "id": "c7bdfe3d",
   "metadata": {},
   "source": [
    "### delete rows with higher than 95th percentile of std"
   ]
  },
  {
   "cell_type": "code",
   "execution_count": 62,
   "id": "741f6223",
   "metadata": {},
   "outputs": [
    {
     "data": {
      "text/plain": [
       "(29, 12)"
      ]
     },
     "execution_count": 62,
     "metadata": {},
     "output_type": "execute_result"
    }
   ],
   "source": [
    "aggregated[(aggregated['score_std']>7.07)].shape"
   ]
  },
  {
   "cell_type": "code",
   "execution_count": 69,
   "id": "5569ec4c",
   "metadata": {},
   "outputs": [
    {
     "data": {
      "text/plain": [
       "(3675, 9)"
      ]
     },
     "execution_count": 69,
     "metadata": {},
     "output_type": "execute_result"
    }
   ],
   "source": [
    "df = aggregated[~(aggregated['score_std']>7.07 )][['Unnamed: 0', 'title', 'body', 'tag', 'datetime', 'author', 'score_mean',\n",
    "       'upvote_ratio', 'url']]\n",
    "df.shape"
   ]
  },
  {
   "cell_type": "code",
   "execution_count": 70,
   "id": "dcc250ff",
   "metadata": {
    "scrolled": true
   },
   "outputs": [
    {
     "data": {
      "text/html": [
       "<div>\n",
       "<style scoped>\n",
       "    .dataframe tbody tr th:only-of-type {\n",
       "        vertical-align: middle;\n",
       "    }\n",
       "\n",
       "    .dataframe tbody tr th {\n",
       "        vertical-align: top;\n",
       "    }\n",
       "\n",
       "    .dataframe thead th {\n",
       "        text-align: right;\n",
       "    }\n",
       "</style>\n",
       "<table border=\"1\" class=\"dataframe\">\n",
       "  <thead>\n",
       "    <tr style=\"text-align: right;\">\n",
       "      <th></th>\n",
       "      <th>Unnamed: 0</th>\n",
       "      <th>datetime</th>\n",
       "      <th>score_mean</th>\n",
       "      <th>upvote_ratio</th>\n",
       "    </tr>\n",
       "  </thead>\n",
       "  <tbody>\n",
       "    <tr>\n",
       "      <th>count</th>\n",
       "      <td>3675.000000</td>\n",
       "      <td>3675</td>\n",
       "      <td>3675.000000</td>\n",
       "      <td>3675.000000</td>\n",
       "    </tr>\n",
       "    <tr>\n",
       "      <th>mean</th>\n",
       "      <td>1539.017687</td>\n",
       "      <td>2019-12-27 00:10:24.459863808</td>\n",
       "      <td>2819.914014</td>\n",
       "      <td>0.744226</td>\n",
       "    </tr>\n",
       "    <tr>\n",
       "      <th>min</th>\n",
       "      <td>0.000000</td>\n",
       "      <td>2010-10-29 12:18:12</td>\n",
       "      <td>0.000000</td>\n",
       "      <td>0.170000</td>\n",
       "    </tr>\n",
       "    <tr>\n",
       "      <th>25%</th>\n",
       "      <td>843.500000</td>\n",
       "      <td>2018-01-18 03:20:35</td>\n",
       "      <td>3.000000</td>\n",
       "      <td>0.560000</td>\n",
       "    </tr>\n",
       "    <tr>\n",
       "      <th>50%</th>\n",
       "      <td>1737.000000</td>\n",
       "      <td>2021-12-27 18:08:39</td>\n",
       "      <td>17.000000</td>\n",
       "      <td>0.790000</td>\n",
       "    </tr>\n",
       "    <tr>\n",
       "      <th>75%</th>\n",
       "      <td>2203.000000</td>\n",
       "      <td>2022-03-09 19:13:09</td>\n",
       "      <td>6366.000000</td>\n",
       "      <td>0.910000</td>\n",
       "    </tr>\n",
       "    <tr>\n",
       "      <th>90%</th>\n",
       "      <td>2481.600000</td>\n",
       "      <td>2022-11-11 00:44:07</td>\n",
       "      <td>9405.000000</td>\n",
       "      <td>0.940000</td>\n",
       "    </tr>\n",
       "    <tr>\n",
       "      <th>95%</th>\n",
       "      <td>2575.300000</td>\n",
       "      <td>2022-11-24 01:28:26</td>\n",
       "      <td>11983.400000</td>\n",
       "      <td>0.950000</td>\n",
       "    </tr>\n",
       "    <tr>\n",
       "      <th>max</th>\n",
       "      <td>2735.000000</td>\n",
       "      <td>2022-12-09 13:06:01</td>\n",
       "      <td>83382.000000</td>\n",
       "      <td>1.000000</td>\n",
       "    </tr>\n",
       "    <tr>\n",
       "      <th>std</th>\n",
       "      <td>776.506012</td>\n",
       "      <td>NaN</td>\n",
       "      <td>5105.642261</td>\n",
       "      <td>0.179040</td>\n",
       "    </tr>\n",
       "  </tbody>\n",
       "</table>\n",
       "</div>"
      ],
      "text/plain": [
       "        Unnamed: 0                       datetime    score_mean  upvote_ratio\n",
       "count  3675.000000                           3675   3675.000000   3675.000000\n",
       "mean   1539.017687  2019-12-27 00:10:24.459863808   2819.914014      0.744226\n",
       "min       0.000000            2010-10-29 12:18:12      0.000000      0.170000\n",
       "25%     843.500000            2018-01-18 03:20:35      3.000000      0.560000\n",
       "50%    1737.000000            2021-12-27 18:08:39     17.000000      0.790000\n",
       "75%    2203.000000            2022-03-09 19:13:09   6366.000000      0.910000\n",
       "90%    2481.600000            2022-11-11 00:44:07   9405.000000      0.940000\n",
       "95%    2575.300000            2022-11-24 01:28:26  11983.400000      0.950000\n",
       "max    2735.000000            2022-12-09 13:06:01  83382.000000      1.000000\n",
       "std     776.506012                            NaN   5105.642261      0.179040"
      ]
     },
     "execution_count": 70,
     "metadata": {},
     "output_type": "execute_result"
    }
   ],
   "source": [
    "df.describe(percentiles=[.25, .5, .75, .90, .95])"
   ]
  },
  {
   "cell_type": "code",
   "execution_count": 72,
   "id": "3e116155",
   "metadata": {},
   "outputs": [
    {
     "data": {
      "text/plain": [
       "range(0, 83392, 10)"
      ]
     },
     "execution_count": 72,
     "metadata": {},
     "output_type": "execute_result"
    }
   ],
   "source": [
    "bins"
   ]
  },
  {
   "cell_type": "code",
   "execution_count": 76,
   "id": "4c19fec0",
   "metadata": {},
   "outputs": [
    {
     "data": {
      "image/png": "[encoded data removed]",
      "text/plain": [
       "<Figure size 640x480 with 1 Axes>"
      ]
     },
     "metadata": {},
     "output_type": "display_data"
    }
   ],
   "source": [
    "# Define the bins - this is an example, you'll want to adjust these based on your specific data\n",
    "bins = range(int(df['score_mean'].min()), int(df['score_mean'].max()) + 10, 10000)\n",
    "\n",
    "# Categorize the 'score_mean' data into bins\n",
    "df['score_mean_bins'] = pd.cut(df['score_mean'], bins)\n",
    "\n",
    "# Calculate the percentage of data in each bin\n",
    "percentage_data = df['score_mean_bins'].value_counts(normalize=True) * 100\n",
    "\n",
    "# Sort the bins (required if bins are not in ascending order by default)\n",
    "percentage_data = percentage_data.sort_index()\n",
    "\n",
    "# Plot the bar chart\n",
    "percentage_data.plot(kind='bar')\n",
    "\n",
    "# Set the title and labels\n",
    "plt.title('Percentage Data Distribution of score_mean')\n",
    "plt.xlabel('score_mean Bins')\n",
    "plt.ylabel('Percentage (%)')\n",
    "\n",
    "# Show the plot\n",
    "plt.show()\n"
   ]
  },
  {
   "cell_type": "code",
   "execution_count": 77,
   "id": "9fde7a0d",
   "metadata": {},
   "outputs": [
    {
     "data": {
      "image/png": "[encoded data removed]",
      "text/plain": [
       "<Figure size 1000x600 with 1 Axes>"
      ]
     },
     "metadata": {},
     "output_type": "display_data"
    }
   ],
   "source": [
    "\n",
    "bins = [i/10.0 for i in range(0, 11)]  \n",
    "\n",
    "# Categorize the 'upvote_ratio' data into bins\n",
    "df['upvote_ratio_bins'] = pd.cut(df['upvote_ratio'], bins, right=False)\n",
    "\n",
    "# Calculate the percentage of data in each bin\n",
    "percentage_data = df['upvote_ratio_bins'].value_counts(normalize=True).sort_index() * 100\n",
    "\n",
    "# Plot the bar chart\n",
    "percentage_data.plot(kind='bar', figsize=(10, 6))\n",
    "\n",
    "# Set the title and labels\n",
    "plt.title('Percentage Distribution of upvote_ratio')\n",
    "plt.xlabel('upvote_ratio Bins')\n",
    "plt.ylabel('Percentage (%)')\n",
    "\n",
    "# Optionally, format the x-axis labels to show them as percentages\n",
    "plt.xticks(ticks=range(len(bins)-1), labels=[f\"{int(b*100)}%\" for b in bins[:-1]])\n",
    "\n",
    "# Show the plot\n",
    "plt.show()\n"
   ]
  },
  {
   "cell_type": "code",
   "execution_count": 78,
   "id": "93a74027",
   "metadata": {},
   "outputs": [
    {
     "data": {
      "image/png": "[encoded data removed]",
      "text/plain": [
       "<Figure size 1000x600 with 1 Axes>"
      ]
     },
     "metadata": {},
     "output_type": "display_data"
    }
   ],
   "source": [
    "# Scatter plot 'score_mean' vs 'upvote_ratio'\n",
    "plt.figure(figsize=(10, 6))\n",
    "plt.scatter(df['score_mean'], df['upvote_ratio'], alpha=0.5)  # alpha for transparency\n",
    "\n",
    "# Title and labels\n",
    "plt.title('Scatter Plot of score_mean vs upvote_ratio')\n",
    "plt.xlabel('Score Mean')\n",
    "plt.ylabel('Upvote Ratio')\n",
    "\n",
    "# Show the plot\n",
    "plt.show()"
   ]
  },
  {
   "cell_type": "code",
   "execution_count": 80,
   "id": "765b1588",
   "metadata": {},
   "outputs": [
    {
     "data": {
      "text/html": [
       "<div>\n",
       "<style scoped>\n",
       "    .dataframe tbody tr th:only-of-type {\n",
       "        vertical-align: middle;\n",
       "    }\n",
       "\n",
       "    .dataframe tbody tr th {\n",
       "        vertical-align: top;\n",
       "    }\n",
       "\n",
       "    .dataframe thead th {\n",
       "        text-align: right;\n",
       "    }\n",
       "</style>\n",
       "<table border=\"1\" class=\"dataframe\">\n",
       "  <thead>\n",
       "    <tr style=\"text-align: right;\">\n",
       "      <th></th>\n",
       "      <th>score_mean</th>\n",
       "      <th>upvote_ratio</th>\n",
       "    </tr>\n",
       "  </thead>\n",
       "  <tbody>\n",
       "    <tr>\n",
       "      <th>score_mean</th>\n",
       "      <td>1.000000</td>\n",
       "      <td>0.509077</td>\n",
       "    </tr>\n",
       "    <tr>\n",
       "      <th>upvote_ratio</th>\n",
       "      <td>0.509077</td>\n",
       "      <td>1.000000</td>\n",
       "    </tr>\n",
       "  </tbody>\n",
       "</table>\n",
       "</div>"
      ],
      "text/plain": [
       "              score_mean  upvote_ratio\n",
       "score_mean      1.000000      0.509077\n",
       "upvote_ratio    0.509077      1.000000"
      ]
     },
     "execution_count": 80,
     "metadata": {},
     "output_type": "execute_result"
    }
   ],
   "source": [
    "df[['score_mean','upvote_ratio']].corr()"
   ]
  },
  {
   "cell_type": "code",
   "execution_count": 84,
   "id": "d531d213",
   "metadata": {},
   "outputs": [
    {
     "data": {
      "image/png": "[encoded data removed]",
      "text/plain": [
       "<Figure size 1000x500 with 1 Axes>"
      ]
     },
     "metadata": {},
     "output_type": "display_data"
    }
   ],
   "source": [
    "df['year'] = df['datetime'].dt.year\n",
    "# Group by the year and calculate the mean score\n",
    "score_mean_by_year = df.groupby('year')['score_mean'].mean().reset_index()\n",
    "\n",
    "# Plotting\n",
    "plt.figure(figsize=(10, 5))\n",
    "plt.plot(score_mean_by_year['year'], score_mean_by_year['score_mean'], marker='o')\n",
    "\n",
    "plt.title('Mean Score by Year')\n",
    "plt.xlabel('Year')\n",
    "plt.ylabel('Mean Score')\n",
    "plt.grid(True)\n",
    "plt.show()"
   ]
  },
  {
   "cell_type": "code",
   "execution_count": 111,
   "id": "2a51eb80",
   "metadata": {},
   "outputs": [
    {
     "data": {
      "image/png": "[encoded data removed]",
      "text/plain": [
       "<Figure size 2000x500 with 2 Axes>"
      ]
     },
     "metadata": {},
     "output_type": "display_data"
    }
   ],
   "source": [
    "# Get the list of top 15 tags by frequency\n",
    "list_tags = list(df.groupby('tag').count().reset_index().sort_values(by = 'title', ascending = False)['tag'][:15])\n",
    "# Calculate the mean score by tag\n",
    "score_mean_by_year = df[df['tag'].isin(list_tags)].groupby('tag')['score_mean'].mean().reset_index()\n",
    "# Calculate the frequency of each tag\n",
    "tag_frequency = df[df['tag'].isin(list_tags)].groupby('tag')['title'].count().reset_index()\n",
    "\n",
    "# Plotting\n",
    "fig, ax1 = plt.subplots(figsize=(20, 5))\n",
    "ax1.plot(score_mean_by_year['tag'], score_mean_by_year['score_mean'], marker='o', color='blue')\n",
    "ax1.set_xlabel('Tag')\n",
    "ax1.set_ylabel('Mean Score', color='blue')\n",
    "ax1.tick_params(axis='y', labelcolor='blue')\n",
    "ax2 = ax1.twinx()\n",
    "ax2.bar(tag_frequency['tag'], tag_frequency['title'], alpha=0.3, color='grey')\n",
    "ax2.set_ylabel('Frequency', color='grey')\n",
    "ax2.tick_params(axis='y', labelcolor='grey')\n",
    "plt.title('Mean Score by Tag with Frequency Bars')\n",
    "ax1.grid(True)\n",
    "plt.show()"
   ]
  },
  {
   "cell_type": "code",
   "execution_count": 141,
   "id": "c0ec2435",
   "metadata": {},
   "outputs": [],
   "source": [
    "df['body'] = np.where(df['body'].isna(), '',df['body'])"
   ]
  },
  {
   "cell_type": "code",
   "execution_count": 145,
   "id": "d07a13d7",
   "metadata": {},
   "outputs": [],
   "source": [
    "df['body']= df['body'].astype(str)"
   ]
  },
  {
   "cell_type": "markdown",
   "id": "c14e19f7",
   "metadata": {},
   "source": [
    "### Build a model"
   ]
  },
  {
   "cell_type": "markdown",
   "id": "be336e33",
   "metadata": {},
   "source": [
    "#### divide the data into train and test"
   ]
  },
  {
   "cell_type": "code",
   "execution_count": 146,
   "id": "3d4ddc51",
   "metadata": {},
   "outputs": [],
   "source": [
    "from sklearn.model_selection import train_test_split"
   ]
  },
  {
   "cell_type": "code",
   "execution_count": 147,
   "id": "25775ce8",
   "metadata": {},
   "outputs": [],
   "source": [
    "X = df.drop(['score_mean','url','score_mean_bins','upvote_ratio_bins','year','Unnamed: 0'], axis=1)  \n",
    "y = df['score_mean']  \n",
    "X_train, X_test, y_train, y_test = train_test_split(X, y, test_size=0.2, random_state=42)"
   ]
  },
  {
   "cell_type": "code",
   "execution_count": 148,
   "id": "8495f448",
   "metadata": {},
   "outputs": [],
   "source": [
    "# !pip install sentence_transformers"
   ]
  },
  {
   "cell_type": "code",
   "execution_count": 149,
   "id": "3593266c",
   "metadata": {},
   "outputs": [],
   "source": [
    "import pandas as pd\n",
    "from sklearn.model_selection import train_test_split, cross_val_score\n",
    "from sklearn.metrics import mean_squared_error\n",
    "from xgboost import XGBRegressor\n",
    "from transformers import AutoTokenizer, AutoModel\n",
    "import torch\n",
    "\n",
    "from sentence_transformers import SentenceTransformer\n"
   ]
  },
  {
   "cell_type": "code",
   "execution_count": 151,
   "id": "1c72b708",
   "metadata": {},
   "outputs": [],
   "source": [
    "# Load SBERT model and tokenizer from Hugging Face\n",
    "model = SentenceTransformer('paraphrase-MiniLM-L6-v2')\n",
    "embedding_title = model.encode(list(X_train['title']))"
   ]
  },
  {
   "cell_type": "code",
   "execution_count": 152,
   "id": "bc29e021",
   "metadata": {},
   "outputs": [],
   "source": [
    "embedding_body = model.encode(list(X_train['body']))"
   ]
  },
  {
   "cell_type": "code",
   "execution_count": 163,
   "id": "a223dfca",
   "metadata": {},
   "outputs": [],
   "source": [
    "from sklearn.preprocessing import OneHotEncoder, StandardScaler\n",
    "from sklearn.compose import ColumnTransformer\n",
    "from sklearn.pipeline import Pipeline\n",
    "import numpy as np\n",
    "from datetime import datetime"
   ]
  },
  {
   "cell_type": "code",
   "execution_count": 164,
   "id": "f350c4d4",
   "metadata": {},
   "outputs": [],
   "source": [
    "# Encode 'tag' using one-hot encoding\n",
    "onehot_encoder = OneHotEncoder()\n",
    "encoded_tags = onehot_encoder.fit_transform(X_train[['tag']]).toarray()"
   ]
  },
  {
   "cell_type": "code",
   "execution_count": 167,
   "id": "31e07b04",
   "metadata": {},
   "outputs": [],
   "source": [
    "upvote_ratio_scaled = X_train[['upvote_ratio']].values"
   ]
  },
  {
   "cell_type": "code",
   "execution_count": 170,
   "id": "61bf4dd6",
   "metadata": {},
   "outputs": [
    {
     "data": {
      "text/plain": [
       "array([[2022,    2,    5],\n",
       "       [2022,    1,   26],\n",
       "       [2022,    1,   31],\n",
       "       ...,\n",
       "       [2022,    1,   26],\n",
       "       [2022,    1,   25],\n",
       "       [2017,    5,   16]])"
      ]
     },
     "execution_count": 170,
     "metadata": {},
     "output_type": "execute_result"
    }
   ],
   "source": [
    "## Process 'datetime' by extracting year, month, and day as separate features\n",
    "datetime_features = X_train['datetime'].apply(lambda x: [x.year, x.month, x.day])\n",
    "datetime_features = np.array(datetime_features.tolist())  # Convert to a NumPy array\n",
    "datetime_features"
   ]
  },
  {
   "cell_type": "code",
   "execution_count": 171,
   "id": "e5f9e293",
   "metadata": {},
   "outputs": [],
   "source": [
    "X_train_features = np.concatenate(\n",
    "    (embedding_title, embedding_body, encoded_tags, datetime_features, upvote_ratio_scaled), \n",
    "    axis=1\n",
    ")"
   ]
  },
  {
   "cell_type": "code",
   "execution_count": 173,
   "id": "c47f1f94",
   "metadata": {},
   "outputs": [
    {
     "data": {
      "text/plain": [
       "(804,)"
      ]
     },
     "execution_count": 173,
     "metadata": {},
     "output_type": "execute_result"
    }
   ],
   "source": [
    "X_train_features[0].shape"
   ]
  },
  {
   "cell_type": "code",
   "execution_count": 174,
   "id": "2eeec968",
   "metadata": {},
   "outputs": [
    {
     "data": {
      "text/plain": [
       "2940"
      ]
     },
     "execution_count": 174,
     "metadata": {},
     "output_type": "execute_result"
    }
   ],
   "source": [
    "len(y_train)"
   ]
  },
  {
   "cell_type": "code",
   "execution_count": 177,
   "id": "32d9e326",
   "metadata": {},
   "outputs": [
    {
     "name": "stdout",
     "output_type": "stream",
     "text": [
      "Fitting 3 folds for each of 8 candidates, totalling 24 fits\n",
      "Best parameters found: {'learning_rate': 0.01, 'max_depth': 3, 'n_estimators': 300}\n",
      "Best RMSE score from Grid Search: 3484.9915389534594\n"
     ]
    }
   ],
   "source": [
    "from sklearn.model_selection import GridSearchCV\n",
    "from xgboost import XGBRegressor\n",
    "import numpy as np\n",
    "\n",
    "# Define the parameter grid to search\n",
    "param_grid = {\n",
    "    'n_estimators': [100,  300],  # Example: Number of trees\n",
    "    'max_depth': [3, 7],           # Example: Maximum number of levels in tree\n",
    "    'learning_rate': [0.01,  0.1], # Example: Boosting learning rate\n",
    "#     'colsample_bytree': [0.5, 0.7, 1.0], # Example: Subsample ratio of columns when constructing each tree\n",
    "#     'subsample': [0.6, 0.8, 1.0]     # Example: Subsample ratio of the training instance\n",
    "    # Add other parameters here if necessary\n",
    "}\n",
    "\n",
    "# Initialize XGBoost regressor\n",
    "xgb_regressor = XGBRegressor(objective='reg:squarederror', random_state=42)\n",
    "\n",
    "# Initialize GridSearchCV object\n",
    "grid_search = GridSearchCV(estimator=xgb_regressor, param_grid=param_grid, cv=3,\n",
    "                           scoring='neg_mean_squared_error', verbose=1)\n",
    "\n",
    "# Perform the grid search and fit the model\n",
    "grid_search.fit(X_train_features, y_train)\n",
    "\n",
    "# Print the best parameters and RMSE scores\n",
    "best_score = np.sqrt(-grid_search.best_score_)\n",
    "best_params = grid_search.best_params_\n",
    "print(f\"Best parameters found: {best_params}\")\n",
    "print(f\"Best RMSE score from Grid Search: {best_score}\")\n",
    "\n",
    "# Fitting 3 folds for each of 8 candidates, totalling 24 fits\n",
    "# Best parameters found: {'learning_rate': 0.01, 'max_depth': 3, 'n_estimators': 300}\n",
    "# Best RMSE score from Grid Search: 3484.9915389534594"
   ]
  },
  {
   "cell_type": "code",
   "execution_count": 186,
   "id": "481355e8",
   "metadata": {},
   "outputs": [
    {
     "data": {
      "text/plain": [
       "<Figure size 1200x800 with 0 Axes>"
      ]
     },
     "metadata": {},
     "output_type": "display_data"
    },
    {
     "data": {
      "image/png": "[encoded data removed]",
      "text/plain": [
       "<Figure size 640x480 with 1 Axes>"
      ]
     },
     "metadata": {},
     "output_type": "display_data"
    }
   ],
   "source": [
    "import matplotlib.pyplot as plt\n",
    "import pandas as pd\n",
    "\n",
    "# Assuming grid_search is your fitted GridSearchCV object from the previous example\n",
    "\n",
    "# Retrieve the best estimator from the grid search\n",
    "best_xgb_model = grid_search.best_estimator_\n",
    "\n",
    "# Get feature importances from the model\n",
    "feature_importances = best_xgb_model.feature_importances_\n",
    "\n",
    "# If you have the feature names available:\n",
    "# feature_names = [\"feature1\", \"feature2\", ..., \"featureN\"]\n",
    "# Otherwise, you can create them as follows:\n",
    "feature_names = [f'Feature {i+1}' for i in range(X_train_features.shape[1])]\n",
    "\n",
    "# Create a pandas Series to hold the importances\n",
    "importance_series = pd.Series(data=feature_importances, index=feature_names)\n",
    "\n",
    "# Sort the features by their importance\n",
    "sorted_importance = importance_series.sort_values(ascending=False)\n",
    "\n",
    "importance = pd.DataFrame(sorted_importance)\n",
    "importance = importance[importance[0]>0]\n",
    "\n",
    "# Visualize the feature importances\n",
    "plt.figure(figsize=(12, 8))\n",
    "importance.plot(kind='bar')\n",
    "plt.title('Feature Importances')\n",
    "plt.ylabel('Importance Score')\n",
    "plt.show()\n",
    "\n"
   ]
  },
  {
   "cell_type": "code",
   "execution_count": 195,
   "id": "912b6bd5",
   "metadata": {},
   "outputs": [
    {
     "data": {
      "text/plain": [
       "<Figure size 1200x800 with 0 Axes>"
      ]
     },
     "metadata": {},
     "output_type": "display_data"
    },
    {
     "data": {
      "image/png": "[encoded data removed]",
      "text/plain": [
       "<Figure size 640x480 with 1 Axes>"
      ]
     },
     "metadata": {},
     "output_type": "display_data"
    }
   ],
   "source": [
    "# Let's say you have original feature names as follows:\n",
    "original_title_features = [f'title_{i}' for i in range(embedding_title.shape[1])]\n",
    "original_body_features = [f'body_{i}' for i in range(embedding_body.shape[1])]\n",
    "original_tag_features = ['tag_encoded']  # Assuming tag is one-hot encoded and you just have one column after encoding\n",
    "original_datetime_features = ['year', 'month', 'day']\n",
    "original_upvote_features = ['upvote_ratio']\n",
    "\n",
    "# Concatenate all the feature names in the order they were concatenated to form X_train_features\n",
    "all_feature_names = (original_title_features + original_body_features + original_tag_features +\n",
    "                     original_datetime_features + original_upvote_features)\n",
    "\n",
    "# Now assuming grid_search is your fitted GridSearchCV object:\n",
    "best_xgb_model = grid_search.best_estimator_\n",
    "\n",
    "# Get feature importances from the model\n",
    "feature_importances = best_xgb_model.feature_importances_\n",
    "\n",
    "# Map these importances to the correct feature names\n",
    "feature_importance_dict = dict(zip(all_feature_names, feature_importances))\n",
    "\n",
    "# Sort features by importance\n",
    "sorted_importance = pd.Series(feature_importance_dict).sort_values(ascending=False)\n",
    "importance = pd.DataFrame(sorted_importance)\n",
    "importance = importance[importance[0]>0]\n",
    "importance.columns = ['importance']\n",
    "# Visualize the feature importances\n",
    "plt.figure(figsize=(12, 8))\n",
    "importance.plot(kind='bar')\n",
    "plt.title('Feature Importances')\n",
    "plt.ylabel('Importance Score')\n",
    "plt.show()\n",
    "\n"
   ]
  },
  {
   "cell_type": "code",
   "execution_count": 196,
   "id": "f606839d",
   "metadata": {},
   "outputs": [
    {
     "data": {
      "text/html": [
       "<div>\n",
       "<style scoped>\n",
       "    .dataframe tbody tr th:only-of-type {\n",
       "        vertical-align: middle;\n",
       "    }\n",
       "\n",
       "    .dataframe tbody tr th {\n",
       "        vertical-align: top;\n",
       "    }\n",
       "\n",
       "    .dataframe thead th {\n",
       "        text-align: right;\n",
       "    }\n",
       "</style>\n",
       "<table border=\"1\" class=\"dataframe\">\n",
       "  <thead>\n",
       "    <tr style=\"text-align: right;\">\n",
       "      <th></th>\n",
       "      <th>Unnamed: 0</th>\n",
       "      <th>title</th>\n",
       "      <th>body</th>\n",
       "      <th>tag</th>\n",
       "      <th>datetime</th>\n",
       "      <th>author</th>\n",
       "      <th>score_mean</th>\n",
       "      <th>upvote_ratio</th>\n",
       "      <th>url</th>\n",
       "      <th>score_mean_bins</th>\n",
       "      <th>upvote_ratio_bins</th>\n",
       "      <th>year</th>\n",
       "    </tr>\n",
       "  </thead>\n",
       "  <tbody>\n",
       "    <tr>\n",
       "      <th>0</th>\n",
       "      <td>2094</td>\n",
       "      <td>\"Pre-baking marijuana before consumption increases potency\" - Is there any actual science to this?</td>\n",
       "      <td>I'm sorry, I know this question isn't as intellectually stimulating as most of the stuff posted here, but it's relevant to my interests. I ran several searches beforehand, but while there were a lot of pot-related questions, this didn't seem to be one of them. \\n\\nOn this [forum ](http://buymarijuanaseeds.com/community/threads/pre-baking-marijuana.114442/)**(NSFW)**, and many others, there appears to be a school of thought that baking marijuana at relatively low temperatures - prior to smoking - activates more of the THC.\\n\\nThe reasoning boils down to this sentence: \\n\\n&gt;In whole-plant cannabis, THC content is expressed as THCA (tetrahydrocannabolic acid) prior to decarboxylation into THC, which takes place when cannabis is heated during cooking, and smoked or vaporized ingestion. THCA is a mild analgesic and anti-inflammatory but does not have good affinity with our CB1 receptors...\\n\\nWhile I'm familiar with marijuana vaporization, this seems to be something different. Traditionally vaporized pot is less potent afterwards, not more. Naturally, marijuana user forums are not known for the their rigorous citation, so I can't find any evidence aside from \"I tried it and it totally worked.\" I realize this question is vulnerable to all sorts of layman speculation, but I'm hoping to avoid that. \\n\\nIs there any scientific evidence for the statement, or is it just the usual stoner superstition?</td>\n",
       "      <td>None</td>\n",
       "      <td>2012-04-13 05:42:20</td>\n",
       "      <td>DELETED</td>\n",
       "      <td>2.0</td>\n",
       "      <td>0.53</td>\n",
       "      <td>https://www.reddit.com/r/askscience/comments/s7ubc/prebaking_marijuana_before_consumption_increases/</td>\n",
       "      <td>(0.0, 10000.0]</td>\n",
       "      <td>[0.5, 0.6)</td>\n",
       "      <td>2012</td>\n",
       "    </tr>\n",
       "    <tr>\n",
       "      <th>1</th>\n",
       "      <td>2187</td>\n",
       "      <td>(Fusion/Nuclear Chem) Does tritium require less energy to fuse than deuterium?</td>\n",
       "      <td>Alright, so here's a decent amount of questions that I've been eager to learn about but just can't find any good sources around that explain it in my basic layman terms.\\n\\n&amp;#x200B;\\n\\nI know that deuterium requires a quite significant amount less activation energy to fuse, does tritium require even less energy than that? Are there any isotopes of any other element that take less energy to fuse than ^(1)H? \\n\\nI understand that we are able to create fusion reactions with specifically deuterium, but would our current technology be capable of fusing ^(1)H like stars can?</td>\n",
       "      <td>Physics</td>\n",
       "      <td>2022-02-08 22:50:51</td>\n",
       "      <td>jamx02</td>\n",
       "      <td>12.0</td>\n",
       "      <td>0.89</td>\n",
       "      <td>https://www.reddit.com/r/askscience/comments/so72zm/fusionnuclear_chem_does_tritium_require_less/</td>\n",
       "      <td>(0.0, 10000.0]</td>\n",
       "      <td>[0.8, 0.9)</td>\n",
       "      <td>2022</td>\n",
       "    </tr>\n",
       "    <tr>\n",
       "      <th>2</th>\n",
       "      <td>2035</td>\n",
       "      <td>(Geology) The \"polar wander hypothesis\" was debunked, but isn't the phenomenon of a wandering pole an actual thing since we've observed that magnetic North moves?</td>\n",
       "      <td>My textbook says\\n\\n&gt;As paleomagnetists sampled and measured older and older rocks, **their results seemed to show that the north magnetic pole was far from the modern pole and appeared to wander through time**. This was called the “polar wander hypothesis” at first. But then they ran into a problem. Each continent had a completely different polar wander curve, which only converged on a common magnetic pole today. These data seemed to suggest that the magnetic field had behaved very strangely in the past, with multiple directions of magnetic north that no longer exist. As outrageous as that  idea seemed, the only alternative was just as radical: **the continents had moved through time, so it was not the magnetic pole that was changing but the continents** **that recorded their directions**. But when you lined up the polar wander curves for two different continents, like Europe and North America, you found that they matched once you moved  the continents back together as Wegener had suggested. **In other words, the “polar wander curves” were only apparent polar wander curves because it was the continents that moved, not the magnetic poles.**\\n\\nWhat I'm confused about is my book saying, \"the continents had moved through time, so it was *not the magnetic pole that was changing*\" because isn't that not completely true since magnetic North DOES move? We've observed this movement, so isn't my book completely dismissing the idea of a \"wandering pole\" incorrect?\\n\\nEverything I've watched and read online only talks about the effect of continental drift on the apparent wander curves, but they haven't talked about how the magnetic North pole does, in fact, move. Can't the movement of the magnetic North pole have had at least a *tiny* influence on the polar wandering curves?</td>\n",
       "      <td>Earth Sciences</td>\n",
       "      <td>2022-02-17 16:55:02</td>\n",
       "      <td>sinecosx</td>\n",
       "      <td>297.0</td>\n",
       "      <td>0.90</td>\n",
       "      <td>https://www.reddit.com/r/askscience/comments/sv4i7e/geology_the_polar_wander_hypothesis_was_debunked/</td>\n",
       "      <td>(0.0, 10000.0]</td>\n",
       "      <td>[0.9, 1.0)</td>\n",
       "      <td>2022</td>\n",
       "    </tr>\n",
       "    <tr>\n",
       "      <th>3</th>\n",
       "      <td>2552</td>\n",
       "      <td>(Mathematics) Does the sum of all real numbers equal -1\\12?</td>\n",
       "      <td>It was under my impression that you could not do arithmetic with inifinity or infinite sums for that matter, so all the proofs showing that the sum of all numbers equals -1/12 seemed kind of bogus to me. However I've heard that it's very important to string theory, so I'm kind of lost. Does it or doesn't it equal -1/12? Thanks.\\nEdit: some grammars</td>\n",
       "      <td>Mathematics</td>\n",
       "      <td>2016-10-29 15:26:17</td>\n",
       "      <td>jobonso</td>\n",
       "      <td>0.0</td>\n",
       "      <td>0.48</td>\n",
       "      <td>https://www.reddit.com/r/askscience/comments/5a30a7/mathematics_does_the_sum_of_all_real_numbers/</td>\n",
       "      <td>NaN</td>\n",
       "      <td>[0.4, 0.5)</td>\n",
       "      <td>2016</td>\n",
       "    </tr>\n",
       "    <tr>\n",
       "      <th>4</th>\n",
       "      <td>2015</td>\n",
       "      <td>(Nuclear Physics) Does the fission of Uranium 235 release all of its binding energy?</td>\n",
       "      <td>First off, forgive me if my terminology is off or if I've completely misunderstood something, nuclear physics is still new to me.\\n\\nSo the mass defect of Uranium 235 is \\~3.082\\*10^(-27)kg, which is equivalent to 2.77\\*10^(-10) joules, or the binding energy of 7.6 MeV per nucleon. Is all of this energy released when this atom is fissioned into krypton and barium?\\n\\nOn top of this, how energy efficient are modern nuclear plants? (i.e. how much energy is lost in the process instead of turning water into steam?)</td>\n",
       "      <td>Physics</td>\n",
       "      <td>2022-02-18 21:53:14</td>\n",
       "      <td>jamx02</td>\n",
       "      <td>77.0</td>\n",
       "      <td>0.81</td>\n",
       "      <td>https://www.reddit.com/r/askscience/comments/sw2v1d/nuclear_physics_does_the_fission_of_uranium_235/</td>\n",
       "      <td>(0.0, 10000.0]</td>\n",
       "      <td>[0.8, 0.9)</td>\n",
       "      <td>2022</td>\n",
       "    </tr>\n",
       "    <tr>\n",
       "      <th>...</th>\n",
       "      <td>...</td>\n",
       "      <td>...</td>\n",
       "      <td>...</td>\n",
       "      <td>...</td>\n",
       "      <td>...</td>\n",
       "      <td>...</td>\n",
       "      <td>...</td>\n",
       "      <td>...</td>\n",
       "      <td>...</td>\n",
       "      <td>...</td>\n",
       "      <td>...</td>\n",
       "      <td>...</td>\n",
       "    </tr>\n",
       "    <tr>\n",
       "      <th>3699</th>\n",
       "      <td>1573</td>\n",
       "      <td>why should we make primer between exon?</td>\n",
       "      <td>Hi there, im new to NCBI blast and making primer. im going to ask my question with an example.\\n\\nif we want to make primer for exon 6 of GALT gene, why is it better to make primer in the intron 5 and intron 6 with about 50bp distance from the exon?\\n\\ni know one of the reason is because of considering splicing mutations but it seems there is  another reason for doing that and the 50bp is a safe spot for the primer to make. why is that?</td>\n",
       "      <td>Biology</td>\n",
       "      <td>2022-10-27 12:10:10</td>\n",
       "      <td>vahidah</td>\n",
       "      <td>0.0</td>\n",
       "      <td>0.27</td>\n",
       "      <td>https://www.reddit.com/r/askscience/comments/yf0hgt/why_should_we_make_primer_between_exon/</td>\n",
       "      <td>NaN</td>\n",
       "      <td>[0.2, 0.3)</td>\n",
       "      <td>2022</td>\n",
       "    </tr>\n",
       "    <tr>\n",
       "      <th>3700</th>\n",
       "      <td>1037</td>\n",
       "      <td>with new emerging strains of the corona virus, are the original vaccines i took no longer beneficial for my immune system?</td>\n",
       "      <td>sorry for the long post - i’ve just been offered my 4th booster (which i will take) - but was curious if the mrna vaccines i took in the past still be in “memory” for my immune system?  would someone with all previous vaccines be in a better situation than someone who just got the most recent?\\n\\nfriend claims the previous vaccines no longer amount to anything and that the virus is essentially not a big threat - his proof being federal governments are allowing unvaccinated people back into work.</td>\n",
       "      <td>COVID-19</td>\n",
       "      <td>2022-12-06 16:59:42</td>\n",
       "      <td>pewpewhadouken</td>\n",
       "      <td>3.0</td>\n",
       "      <td>0.55</td>\n",
       "      <td>https://www.reddit.com/r/askscience/comments/zenrlj/with_new_emerging_strains_of_the_corona_virus_are/</td>\n",
       "      <td>(0.0, 10000.0]</td>\n",
       "      <td>[0.5, 0.6)</td>\n",
       "      <td>2022</td>\n",
       "    </tr>\n",
       "    <tr>\n",
       "      <th>3701</th>\n",
       "      <td>1925</td>\n",
       "      <td>with the HIV MRNA vaccine going into testing, how are they going to figure out if it actually works?</td>\n",
       "      <td>I'm asking since i'm pretty sure they won't reuse needles or find an HIV positive person for the test subject to have unprotected sex with</td>\n",
       "      <td>Medicine</td>\n",
       "      <td>2022-02-26 14:57:24</td>\n",
       "      <td>GrungySheriff</td>\n",
       "      <td>41.0</td>\n",
       "      <td>0.81</td>\n",
       "      <td>https://www.reddit.com/r/askscience/comments/t29gpe/with_the_hiv_mrna_vaccine_going_into_testing_how/</td>\n",
       "      <td>(0.0, 10000.0]</td>\n",
       "      <td>[0.8, 0.9)</td>\n",
       "      <td>2022</td>\n",
       "    </tr>\n",
       "    <tr>\n",
       "      <th>3702</th>\n",
       "      <td>9</td>\n",
       "      <td>would freezing eggs to use later reduce the risk of age-related complications like downs syndrome, as opposed to just getting pregnant later in life?</td>\n",
       "      <td></td>\n",
       "      <td>Medicine</td>\n",
       "      <td>2022-12-08 18:53:28</td>\n",
       "      <td>knockdownthewall</td>\n",
       "      <td>11.0</td>\n",
       "      <td>0.70</td>\n",
       "      <td>https://www.reddit.com/r/askscience/comments/zgksjw/would_freezing_eggs_to_use_later_reduce_the_risk/</td>\n",
       "      <td>(0.0, 10000.0]</td>\n",
       "      <td>[0.7, 0.8)</td>\n",
       "      <td>2022</td>\n",
       "    </tr>\n",
       "    <tr>\n",
       "      <th>3703</th>\n",
       "      <td>1234</td>\n",
       "      <td>would it be possible for a dragonflies wing to tear and heal?</td>\n",
       "      <td></td>\n",
       "      <td>Biology</td>\n",
       "      <td>2022-11-21 14:32:58</td>\n",
       "      <td>Otterfrostiys</td>\n",
       "      <td>95.0</td>\n",
       "      <td>0.86</td>\n",
       "      <td>https://www.reddit.com/r/askscience/comments/z1civv/would_it_be_possible_for_a_dragonflies_wing_to/</td>\n",
       "      <td>(0.0, 10000.0]</td>\n",
       "      <td>[0.8, 0.9)</td>\n",
       "      <td>2022</td>\n",
       "    </tr>\n",
       "  </tbody>\n",
       "</table>\n",
       "<p>3675 rows × 12 columns</p>\n",
       "</div>"
      ],
      "text/plain": [
       "      Unnamed: 0  \\\n",
       "0           2094   \n",
       "1           2187   \n",
       "2           2035   \n",
       "3           2552   \n",
       "4           2015   \n",
       "...          ...   \n",
       "3699        1573   \n",
       "3700        1037   \n",
       "3701        1925   \n",
       "3702           9   \n",
       "3703        1234   \n",
       "\n",
       "                                                                                                                                                                   title  \\\n",
       "0                                                                     \"Pre-baking marijuana before consumption increases potency\" - Is there any actual science to this?   \n",
       "1                                                                                         (Fusion/Nuclear Chem) Does tritium require less energy to fuse than deuterium?   \n",
       "2     (Geology) The \"polar wander hypothesis\" was debunked, but isn't the phenomenon of a wandering pole an actual thing since we've observed that magnetic North moves?   \n",
       "3                                                                                                            (Mathematics) Does the sum of all real numbers equal -1\\12?   \n",
       "4                                                                                   (Nuclear Physics) Does the fission of Uranium 235 release all of its binding energy?   \n",
       "...                                                                                                                                                                  ...   \n",
       "3699                                                                                                                             why should we make primer between exon?   \n",
       "3700                                          with new emerging strains of the corona virus, are the original vaccines i took no longer beneficial for my immune system?   \n",
       "3701                                                                with the HIV MRNA vaccine going into testing, how are they going to figure out if it actually works?   \n",
       "3702               would freezing eggs to use later reduce the risk of age-related complications like downs syndrome, as opposed to just getting pregnant later in life?   \n",
       "3703                                                                                                       would it be possible for a dragonflies wing to tear and heal?   \n",
       "\n",
       "                                                                                                                                                                                                                                                                                                                                                                                                                                                                                                                                                                                                                                                                                                                                                                                                                                                                                                                                                                                                                                                                                                                                                                                                                                                                                                                                                                                                                                                                                                                                                                                                                                                                                                                                                                                                                                                                     body  \\\n",
       "0                                                                                                                                                                                                                                                                                                                                                                                                    I'm sorry, I know this question isn't as intellectually stimulating as most of the stuff posted here, but it's relevant to my interests. I ran several searches beforehand, but while there were a lot of pot-related questions, this didn't seem to be one of them. \\n\\nOn this [forum ](http://buymarijuanaseeds.com/community/threads/pre-baking-marijuana.114442/)**(NSFW)**, and many others, there appears to be a school of thought that baking marijuana at relatively low temperatures - prior to smoking - activates more of the THC.\\n\\nThe reasoning boils down to this sentence: \\n\\n>In whole-plant cannabis, THC content is expressed as THCA (tetrahydrocannabolic acid) prior to decarboxylation into THC, which takes place when cannabis is heated during cooking, and smoked or vaporized ingestion. THCA is a mild analgesic and anti-inflammatory but does not have good affinity with our CB1 receptors...\\n\\nWhile I'm familiar with marijuana vaporization, this seems to be something different. Traditionally vaporized pot is less potent afterwards, not more. Naturally, marijuana user forums are not known for the their rigorous citation, so I can't find any evidence aside from \"I tried it and it totally worked.\" I realize this question is vulnerable to all sorts of layman speculation, but I'm hoping to avoid that. \\n\\nIs there any scientific evidence for the statement, or is it just the usual stoner superstition?   \n",
       "1                                                                                                                                                                                                                                                                                                                                                                                                                                                                                                                                                                                                                                                                                                                                                                                                                                                                                                                                                                                                                                                                                                                                                                                                                                                                         Alright, so here's a decent amount of questions that I've been eager to learn about but just can't find any good sources around that explain it in my basic layman terms.\\n\\n&#x200B;\\n\\nI know that deuterium requires a quite significant amount less activation energy to fuse, does tritium require even less energy than that? Are there any isotopes of any other element that take less energy to fuse than ^(1)H? \\n\\nI understand that we are able to create fusion reactions with specifically deuterium, but would our current technology be capable of fusing ^(1)H like stars can?   \n",
       "2     My textbook says\\n\\n>As paleomagnetists sampled and measured older and older rocks, **their results seemed to show that the north magnetic pole was far from the modern pole and appeared to wander through time**. This was called the “polar wander hypothesis” at first. But then they ran into a problem. Each continent had a completely different polar wander curve, which only converged on a common magnetic pole today. These data seemed to suggest that the magnetic field had behaved very strangely in the past, with multiple directions of magnetic north that no longer exist. As outrageous as that  idea seemed, the only alternative was just as radical: **the continents had moved through time, so it was not the magnetic pole that was changing but the continents** **that recorded their directions**. But when you lined up the polar wander curves for two different continents, like Europe and North America, you found that they matched once you moved  the continents back together as Wegener had suggested. **In other words, the “polar wander curves” were only apparent polar wander curves because it was the continents that moved, not the magnetic poles.**\\n\\nWhat I'm confused about is my book saying, \"the continents had moved through time, so it was *not the magnetic pole that was changing*\" because isn't that not completely true since magnetic North DOES move? We've observed this movement, so isn't my book completely dismissing the idea of a \"wandering pole\" incorrect?\\n\\nEverything I've watched and read online only talks about the effect of continental drift on the apparent wander curves, but they haven't talked about how the magnetic North pole does, in fact, move. Can't the movement of the magnetic North pole have had at least a *tiny* influence on the polar wandering curves?   \n",
       "3                                                                                                                                                                                                                                                                                                                                                                                                                                                                                                                                                                                                                                                                                                                                                                                                                                                                                                                                                                                                                                                                                                                                                                                                                                                                                                                                                                                                                                                                                                          It was under my impression that you could not do arithmetic with inifinity or infinite sums for that matter, so all the proofs showing that the sum of all numbers equals -1/12 seemed kind of bogus to me. However I've heard that it's very important to string theory, so I'm kind of lost. Does it or doesn't it equal -1/12? Thanks.\\nEdit: some grammars   \n",
       "4                                                                                                                                                                                                                                                                                                                                                                                                                                                                                                                                                                                                                                                                                                                                                                                                                                                                                                                                                                                                                                                                                                                                                                                                                                                                                                                                    First off, forgive me if my terminology is off or if I've completely misunderstood something, nuclear physics is still new to me.\\n\\nSo the mass defect of Uranium 235 is \\~3.082\\*10^(-27)kg, which is equivalent to 2.77\\*10^(-10) joules, or the binding energy of 7.6 MeV per nucleon. Is all of this energy released when this atom is fissioned into krypton and barium?\\n\\nOn top of this, how energy efficient are modern nuclear plants? (i.e. how much energy is lost in the process instead of turning water into steam?)   \n",
       "...                                                                                                                                                                                                                                                                                                                                                                                                                                                                                                                                                                                                                                                                                                                                                                                                                                                                                                                                                                                                                                                                                                                                                                                                                                                                                                                                                                                                                                                                                                                                                                                                                                                                                                                                                                                                                                                                   ...   \n",
       "3699                                                                                                                                                                                                                                                                                                                                                                                                                                                                                                                                                                                                                                                                                                                                                                                                                                                                                                                                                                                                                                                                                                                                                                                                                                                                                                                                                                                                             Hi there, im new to NCBI blast and making primer. im going to ask my question with an example.\\n\\nif we want to make primer for exon 6 of GALT gene, why is it better to make primer in the intron 5 and intron 6 with about 50bp distance from the exon?\\n\\ni know one of the reason is because of considering splicing mutations but it seems there is  another reason for doing that and the 50bp is a safe spot for the primer to make. why is that?   \n",
       "3700                                                                                                                                                                                                                                                                                                                                                                                                                                                                                                                                                                                                                                                                                                                                                                                                                                                                                                                                                                                                                                                                                                                                                                                                                                                                                                                                                 sorry for the long post - i’ve just been offered my 4th booster (which i will take) - but was curious if the mrna vaccines i took in the past still be in “memory” for my immune system?  would someone with all previous vaccines be in a better situation than someone who just got the most recent?\\n\\nfriend claims the previous vaccines no longer amount to anything and that the virus is essentially not a big threat - his proof being federal governments are allowing unvaccinated people back into work.   \n",
       "3701                                                                                                                                                                                                                                                                                                                                                                                                                                                                                                                                                                                                                                                                                                                                                                                                                                                                                                                                                                                                                                                                                                                                                                                                                                                                                                                                                                                                                                                                                                                                                                                                                                                                                                                           I'm asking since i'm pretty sure they won't reuse needles or find an HIV positive person for the test subject to have unprotected sex with   \n",
       "3702                                                                                                                                                                                                                                                                                                                                                                                                                                                                                                                                                                                                                                                                                                                                                                                                                                                                                                                                                                                                                                                                                                                                                                                                                                                                                                                                                                                                                                                                                                                                                                                                                                                                                                                                                                                                                                                                        \n",
       "3703                                                                                                                                                                                                                                                                                                                                                                                                                                                                                                                                                                                                                                                                                                                                                                                                                                                                                                                                                                                                                                                                                                                                                                                                                                                                                                                                                                                                                                                                                                                                                                                                                                                                                                                                                                                                                                                                        \n",
       "\n",
       "                 tag            datetime            author  score_mean  \\\n",
       "0               None 2012-04-13 05:42:20           DELETED         2.0   \n",
       "1            Physics 2022-02-08 22:50:51            jamx02        12.0   \n",
       "2     Earth Sciences 2022-02-17 16:55:02          sinecosx       297.0   \n",
       "3        Mathematics 2016-10-29 15:26:17           jobonso         0.0   \n",
       "4            Physics 2022-02-18 21:53:14            jamx02        77.0   \n",
       "...              ...                 ...               ...         ...   \n",
       "3699         Biology 2022-10-27 12:10:10           vahidah         0.0   \n",
       "3700        COVID-19 2022-12-06 16:59:42    pewpewhadouken         3.0   \n",
       "3701        Medicine 2022-02-26 14:57:24     GrungySheriff        41.0   \n",
       "3702        Medicine 2022-12-08 18:53:28  knockdownthewall        11.0   \n",
       "3703         Biology 2022-11-21 14:32:58     Otterfrostiys        95.0   \n",
       "\n",
       "      upvote_ratio  \\\n",
       "0             0.53   \n",
       "1             0.89   \n",
       "2             0.90   \n",
       "3             0.48   \n",
       "4             0.81   \n",
       "...            ...   \n",
       "3699          0.27   \n",
       "3700          0.55   \n",
       "3701          0.81   \n",
       "3702          0.70   \n",
       "3703          0.86   \n",
       "\n",
       "                                                                                                         url  \\\n",
       "0       https://www.reddit.com/r/askscience/comments/s7ubc/prebaking_marijuana_before_consumption_increases/   \n",
       "1          https://www.reddit.com/r/askscience/comments/so72zm/fusionnuclear_chem_does_tritium_require_less/   \n",
       "2      https://www.reddit.com/r/askscience/comments/sv4i7e/geology_the_polar_wander_hypothesis_was_debunked/   \n",
       "3          https://www.reddit.com/r/askscience/comments/5a30a7/mathematics_does_the_sum_of_all_real_numbers/   \n",
       "4       https://www.reddit.com/r/askscience/comments/sw2v1d/nuclear_physics_does_the_fission_of_uranium_235/   \n",
       "...                                                                                                      ...   \n",
       "3699             https://www.reddit.com/r/askscience/comments/yf0hgt/why_should_we_make_primer_between_exon/   \n",
       "3700  https://www.reddit.com/r/askscience/comments/zenrlj/with_new_emerging_strains_of_the_corona_virus_are/   \n",
       "3701   https://www.reddit.com/r/askscience/comments/t29gpe/with_the_hiv_mrna_vaccine_going_into_testing_how/   \n",
       "3702   https://www.reddit.com/r/askscience/comments/zgksjw/would_freezing_eggs_to_use_later_reduce_the_risk/   \n",
       "3703     https://www.reddit.com/r/askscience/comments/z1civv/would_it_be_possible_for_a_dragonflies_wing_to/   \n",
       "\n",
       "     score_mean_bins upvote_ratio_bins  year  \n",
       "0     (0.0, 10000.0]        [0.5, 0.6)  2012  \n",
       "1     (0.0, 10000.0]        [0.8, 0.9)  2022  \n",
       "2     (0.0, 10000.0]        [0.9, 1.0)  2022  \n",
       "3                NaN        [0.4, 0.5)  2016  \n",
       "4     (0.0, 10000.0]        [0.8, 0.9)  2022  \n",
       "...              ...               ...   ...  \n",
       "3699             NaN        [0.2, 0.3)  2022  \n",
       "3700  (0.0, 10000.0]        [0.5, 0.6)  2022  \n",
       "3701  (0.0, 10000.0]        [0.8, 0.9)  2022  \n",
       "3702  (0.0, 10000.0]        [0.7, 0.8)  2022  \n",
       "3703  (0.0, 10000.0]        [0.8, 0.9)  2022  \n",
       "\n",
       "[3675 rows x 12 columns]"
      ]
     },
     "execution_count": 196,
     "metadata": {},
     "output_type": "execute_result"
    }
   ],
   "source": [
    "df"
   ]
  },
  {
   "cell_type": "code",
   "execution_count": null,
   "id": "af09b185",
   "metadata": {},
   "outputs": [],
   "source": []
  }
 ],
 "metadata": {
  "kernelspec": {
   "display_name": "Python 3.11",
   "language": "python",
   "name": "python3.11"
  },
  "language_info": {
   "codemirror_mode": {
    "name": "ipython",
    "version": 3
   },
   "file_extension": ".py",
   "mimetype": "text/x-python",
   "name": "python",
   "nbconvert_exporter": "python",
   "pygments_lexer": "ipython3",
   "version": "3.11.6"
  }
 },
 "nbformat": 4,
 "nbformat_minor": 5
}
